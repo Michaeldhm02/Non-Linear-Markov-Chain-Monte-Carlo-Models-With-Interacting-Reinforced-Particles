{
 "cells": [
  {
   "cell_type": "code",
   "execution_count": 1,
   "id": "cfa953b1",
   "metadata": {},
   "outputs": [],
   "source": [
    "import numpy as np\n",
    "import random as rm\n",
    "import pandas as pd\n",
    "from random import seed\n",
    "from random import random\n",
    "import matplotlib.pyplot as plt\n",
    "from pylab import *\n",
    "from scipy.optimize import curve_fit\n",
    "from scipy.stats import bernoulli, binom, norm\n",
    "from scipy import integrate\n",
    "import time"
   ]
  },
  {
   "cell_type": "markdown",
   "id": "89a29508",
   "metadata": {},
   "source": [
    "1. Generating Densities and Related Functions:"
   ]
  },
  {
   "cell_type": "markdown",
   "id": "d2bed3a0",
   "metadata": {},
   "source": [
    "The code below generates various densities and related functions for a given mixture of normal distributions."
   ]
  },
  {
   "cell_type": "code",
   "execution_count": 187,
   "id": "4f30b940",
   "metadata": {},
   "outputs": [],
   "source": [
    "def f_pi(x, mu, sigma, alpha):\n",
    "    val = 0\n",
    "    for i in range(len(mu)):\n",
    "        val += alpha[i]*norm.pdf(x, mu[i], sigma[i])\n",
    "    return val\n",
    "\n",
    "def f_eta_unnormalized(x, mu, sigma, alpha, p):\n",
    "    return f_pi(x, mu, sigma, alpha)**p\n",
    "\n",
    "def compute_c(mu, sigma, alpha, p):\n",
    "    def f_eta_unnormalized_temp(x):\n",
    "        return f_eta_unnormalized(x, mu, sigma, alpha, p)\n",
    "    c = integrate.quad(f_eta_unnormalized_temp, -np.inf, np.inf)[0]\n",
    "    return c\n",
    "\n",
    "c = compute_c(mu, sigma, alpha, p)\n",
    "    \n",
    "def f_eta(x, mu, sigma, alpha, p, c):\n",
    "    return f_eta_unnormalized(x, mu, sigma, alpha, p)/c\n",
    "\n",
    "def g(x, mu, sigma, alpha, p, c):\n",
    "    return(f_pi(x, mu, sigma, alpha)/f_eta(x, mu, sigma, alpha, p, c))"
   ]
  },
  {
   "cell_type": "markdown",
   "id": "0550cb5f",
   "metadata": {},
   "source": [
    "The code below generates various densities and related functions for a fixed mixture of normal distributions. \n",
    "\n",
    "We may sometimes use these functions to suppress our (fixed) choice of mixture distribution in the code."
   ]
  },
  {
   "cell_type": "code",
   "execution_count": 244,
   "id": "9e5a44aa",
   "metadata": {},
   "outputs": [],
   "source": [
    "def f_pi_fix(x):\n",
    "    return(f_pi(x, mu, sigma, alpha))\n",
    "\n",
    "def f_eta_unnormalized_fix(x):\n",
    "    return(f_eta_unnormalized(x, mu, sigma, alpha, p))\n",
    "\n",
    "c = integrate.quad(f_eta_unnormalized_fix, -np.inf, np.inf)[0]\n",
    "\n",
    "def f_eta_fix(x):\n",
    "    return f_eta_unnormalized(x, mu, sigma, alpha, p)/c\n",
    "\n",
    "def g_fix(x):\n",
    "    return g(x, mu, sigma, alpha, p)"
   ]
  },
  {
   "cell_type": "markdown",
   "id": "16969dac",
   "metadata": {},
   "source": [
    "Below we verify that the normalizing constant $c$ for $f_{\\eta}$ is being computed correctly."
   ]
  },
  {
   "cell_type": "code",
   "execution_count": 245,
   "id": "39a50f7c",
   "metadata": {},
   "outputs": [
    {
     "data": {
      "text/plain": [
       "3.166466974172319"
      ]
     },
     "execution_count": 245,
     "metadata": {},
     "output_type": "execute_result"
    }
   ],
   "source": [
    "mu = np.array([10])\n",
    "sigma = np.array([2])\n",
    "alpha = np.array([1])\n",
    "p = 0.5\n",
    "\n",
    "compute_c(mu, sigma, alpha, p)"
   ]
  },
  {
   "cell_type": "code",
   "execution_count": 246,
   "id": "101dbf38",
   "metadata": {
    "scrolled": false
   },
   "outputs": [
    {
     "data": {
      "text/plain": [
       "9.067574489600354"
      ]
     },
     "execution_count": 246,
     "metadata": {},
     "output_type": "execute_result"
    }
   ],
   "source": [
    "mu = np.array([-5, 10])\n",
    "sigma = np.array([2, 7])\n",
    "alpha = np.array([0.3, 0.7])\n",
    "p = 0.4\n",
    "\n",
    "compute_c(mu, sigma, alpha, p)"
   ]
  },
  {
   "cell_type": "markdown",
   "id": "2ff74ad8",
   "metadata": {},
   "source": [
    "The two examples above are correct, which suggests that $f_{\\eta}$ is being computed correctly."
   ]
  },
  {
   "cell_type": "markdown",
   "id": "6067571f",
   "metadata": {},
   "source": [
    "2. Simulating an Auxillary Chain $\\{Y_n\\}$ using $P$."
   ]
  },
  {
   "cell_type": "markdown",
   "id": "7f972930",
   "metadata": {},
   "source": [
    "The code below simulates a single auxillary chain with transition kernel $P$, whose stationary distribution is $f_{\\eta}$."
   ]
  },
  {
   "cell_type": "code",
   "execution_count": 304,
   "id": "0b9804bc",
   "metadata": {},
   "outputs": [],
   "source": [
    "def p_kernel(y0, prop_sig_y, n, mu, sigma, alpha, p):\n",
    "        count = 0\n",
    "        Yn = y0\n",
    "        estimator = np.array([y0])\n",
    "        while count < n:\n",
    "            y = np.random.normal(Yn, prop_sig_y)\n",
    "            u = np.random.uniform(0,1)\n",
    "            a = min(f_eta_unnormalized(y, mu, sigma, alpha, p)/f_eta_unnormalized(Yn, mu, sigma, alpha, p), 1)\n",
    "            if u <= a:\n",
    "                estimator = np.append(estimator, y)\n",
    "                Yn = y\n",
    "                count += 1\n",
    "        return estimator"
   ]
  },
  {
   "cell_type": "markdown",
   "id": "4d13f2bd",
   "metadata": {},
   "source": [
    "Below we verify that the kernel $P$ functions properly, namely that it has stationary distribution $f_{\\eta}$. We begin by simulating $\\{Y_n\\}$."
   ]
  },
  {
   "cell_type": "code",
   "execution_count": 305,
   "id": "d8d3c59a",
   "metadata": {},
   "outputs": [],
   "source": [
    "y0 = 5\n",
    "prop_sig_y = 1\n",
    "n = 10000\n",
    "mu = np.array([0, 3])\n",
    "sigma = np.array([1, 4])\n",
    "alpha = np.array([0.3, 0.7])\n",
    "p = 0.4\n",
    "y_out = p_kernel(y0, prop_sig_y, n, mu, sigma, alpha, p)"
   ]
  },
  {
   "cell_type": "markdown",
   "id": "1d98cb7b",
   "metadata": {},
   "source": [
    "Below we plot a histogram of\n",
    "$$\n",
    "m^Y_n \\doteq \\frac{1}{n+1} \\sum\\limits_{i=0}^n \\delta_{Y_i},\n",
    "$$\n",
    "compared to the density $f_{\\eta}$, where $\\{Y_n\\}$ has kernel $P$."
   ]
  },
  {
   "cell_type": "code",
   "execution_count": 306,
   "id": "072f447a",
   "metadata": {},
   "outputs": [
    {
     "data": {
      "text/plain": [
       "[<matplotlib.lines.Line2D at 0x7f93dc679e50>]"
      ]
     },
     "execution_count": 306,
     "metadata": {},
     "output_type": "execute_result"
    },
    {
     "data": {
      "image/png": "[encoded data removed]",
      "text/plain": [
       "<Figure size 432x288 with 1 Axes>"
      ]
     },
     "metadata": {
      "needs_background": "light"
     },
     "output_type": "display_data"
    }
   ],
   "source": [
    "c = compute_c(mu, sigma, alpha, p)\n",
    "f_eta_plot = lambda y: f_eta(y, mu, sigma, alpha, p, c)\n",
    "\n",
    "plt.hist(y_out, density = True, bins = 100)\n",
    "\n",
    "t = np.linspace(-20,25,1000)\n",
    "vals = f_eta_plot(t)\n",
    "\n",
    "plt.plot(t,vals, 'r')"
   ]
  },
  {
   "cell_type": "markdown",
   "id": "eb266969",
   "metadata": {},
   "source": [
    "3. Simulating a Chain $\\{Z_n\\}$ with Kernel $K$, whose stationary distribution is $f_{\\pi}$."
   ]
  },
  {
   "cell_type": "code",
   "execution_count": 406,
   "id": "3b3ca414",
   "metadata": {},
   "outputs": [],
   "source": [
    "def k_kernel_nsteps(z0, prop_sig_z, n, mu, sigma, alpha):\n",
    "        count = 0\n",
    "        Zn = z0\n",
    "        estimator = np.array([z0])\n",
    "        while count < n:\n",
    "            z = np.random.normal(Zn, prop_sig_z)\n",
    "            u = np.random.uniform(0,1)\n",
    "            a = min(f_pi(z, mu, sigma, alpha)/f_pi(Zn, mu, sigma, alpha), 1)\n",
    "            if u <= a:\n",
    "                estimator = np.append(estimator, z)\n",
    "                Zn = z\n",
    "                count += 1\n",
    "        return estimator"
   ]
  },
  {
   "cell_type": "markdown",
   "id": "3a44fc15",
   "metadata": {},
   "source": [
    "Below we verify that the kernel $K$ functions properly, namely that it has stationary distribution $f_{\\pi}$."
   ]
  },
  {
   "cell_type": "code",
   "execution_count": 459,
   "id": "2a35e9e3",
   "metadata": {},
   "outputs": [],
   "source": [
    "z0 = 5\n",
    "prop_sig_z = 1\n",
    "n = 50000\n",
    "mu = np.array([0, 3])\n",
    "sigma = np.array([1, 4])\n",
    "alpha = np.array([0.3, 0.7])\n",
    "z_out = k_kernel_nsteps(z0, prop_sig_z, n, mu, sigma, alpha)"
   ]
  },
  {
   "cell_type": "markdown",
   "id": "77846191",
   "metadata": {},
   "source": [
    "Below we plot a histogram of\n",
    "$$\n",
    "m^Z_n \\doteq \\frac{1}{n+1} \\sum\\limits_{i=0}^n \\delta_{Z_i},\n",
    "$$\n",
    "compared to the density $f_{\\pi}$, where $\\{Z_n\\}$ has kernel $K$."
   ]
  },
  {
   "cell_type": "code",
   "execution_count": 460,
   "id": "71aef4b1",
   "metadata": {},
   "outputs": [
    {
     "data": {
      "text/plain": [
       "[<matplotlib.lines.Line2D at 0x7f93cc03cd00>]"
      ]
     },
     "execution_count": 460,
     "metadata": {},
     "output_type": "execute_result"
    },
    {
     "data": {
      "image/png": "[encoded data removed]",
      "text/plain": [
       "<Figure size 432x288 with 1 Axes>"
      ]
     },
     "metadata": {
      "needs_background": "light"
     },
     "output_type": "display_data"
    }
   ],
   "source": [
    "f_pi_plot = lambda z: f_pi(z, mu, sigma, alpha)\n",
    "\n",
    "plt.hist(z_out, density = True, bins = 100)\n",
    "\n",
    "t = np.linspace(-5,25,1000)\n",
    "vals = f_pi_plot(t)\n",
    "\n",
    "plt.plot(t,vals, 'r')"
   ]
  },
  {
   "cell_type": "markdown",
   "id": "f838f070",
   "metadata": {},
   "source": [
    "The function below simulates a single step of a chain with kernel $K$."
   ]
  },
  {
   "cell_type": "code",
   "execution_count": 253,
   "id": "850625a3",
   "metadata": {},
   "outputs": [],
   "source": [
    "def k_kernel(Xn, prop_sig_x, mu, sigma, alpha):\n",
    "    Xnew = k_kernel_nsteps(Xn, prop_sig_x, 1, mu, sigma, alpha)[-1]\n",
    "    return(Xnew)"
   ]
  },
  {
   "cell_type": "markdown",
   "id": "e68d8eeb",
   "metadata": {},
   "source": [
    "4. Auxillary Functions"
   ]
  },
  {
   "cell_type": "markdown",
   "id": "5f503aa9",
   "metadata": {},
   "source": [
    "Here we introduce several auxillary functions that are used later on."
   ]
  },
  {
   "cell_type": "code",
   "execution_count": 311,
   "id": "1f01f3a7",
   "metadata": {},
   "outputs": [],
   "source": [
    "def sum_g(sum_old, yn, mu, sigma, alpha, p, c):\n",
    "    return sum_old + g(yn, mu, sigma, alpha, p, c)\n",
    "\n",
    "def prob_list(y, sum_old, prob_list_old, mu, sigma, alpha, p, c):\n",
    "        a = sum_old/sum_g(sum_old, y, mu, sigma, alpha, p, c)\n",
    "        prob_list = prob_list_old*a\n",
    "        prob_list = np.append(prob_list, g(y, mu, sigma, alpha, p, c)/sum_g(sum_old, y, mu, sigma, alpha, p, c))\n",
    "        return prob_list"
   ]
  },
  {
   "cell_type": "markdown",
   "id": "d1c4c111",
   "metadata": {},
   "source": [
    "Below we test the *prob_list* function; the results appear to be correct."
   ]
  },
  {
   "cell_type": "code",
   "execution_count": 312,
   "id": "5deb2396",
   "metadata": {},
   "outputs": [
    {
     "data": {
      "text/plain": [
       "array([0.26859554, 0.62672292, 0.10468154])"
      ]
     },
     "execution_count": 312,
     "metadata": {},
     "output_type": "execute_result"
    }
   ],
   "source": [
    "c = compute_c(mu, sigma, alpha, p)\n",
    "\n",
    "sum_old = 10.5\n",
    "prob_list_old = np.array([0.3,0.7])\n",
    "prob_list(3, sum_old, prob_list_old, mu, sigma, alpha, p, c)"
   ]
  },
  {
   "cell_type": "markdown",
   "id": "b97add38",
   "metadata": {},
   "source": [
    "5. Simulating a Single Nonlinear Markov Chain"
   ]
  },
  {
   "cell_type": "markdown",
   "id": "0041230c",
   "metadata": {},
   "source": [
    "The function below simulates $n$ time steps of a nonlinear Markov chain $\\{X_n\\}$ with a single auxillary particle."
   ]
  },
  {
   "cell_type": "code",
   "execution_count": 426,
   "id": "9d99fa01",
   "metadata": {},
   "outputs": [],
   "source": [
    "#generalized toy example\n",
    "def simulate(mu, sigma, alpha, p, n, y0, prop_sig_x, prop_sig_y, x0, eps):\n",
    "    start = time.time()    \n",
    "    \n",
    "    c = compute_c(mu, sigma, alpha, p)\n",
    "\n",
    "    X = np.zeros(n)\n",
    "    X[0] = x0\n",
    "\n",
    "    sum_gs = g(y0, mu, sigma, alpha, p, c)\n",
    "    \n",
    "    Y = p_kernel(y0, prop_sig_y, n, mu, sigma, alpha, p)\n",
    "    prob_list_Ys = np.array([1])\n",
    "        \n",
    "    for k in range(1, n):\n",
    "        prob_list_Ys = prob_list(Y[k], sum_gs, prob_list_Ys, mu, sigma, alpha, p, c)\n",
    "        sum_gs = sum_g(sum_gs, Y[k], mu, sigma, alpha, p, c)\n",
    "        i = bernoulli(epsilon).rvs(1)\n",
    "        if i == 0:\n",
    "            X[k] = k_kernel(x0, prop_sig_x, mu, sigma, alpha)\n",
    "        else:\n",
    "            X[k] = np.random.choice(Y[:k+1], p = prob_list_Ys)\n",
    "        x0 = X[k]    \n",
    "    \n",
    "    print(\"total:\"+str(time.time() - start))\n",
    "    \n",
    "    return X"
   ]
  },
  {
   "cell_type": "markdown",
   "id": "3d543519",
   "metadata": {},
   "source": [
    "The simulation below suggests that our code functions properly."
   ]
  },
  {
   "cell_type": "code",
   "execution_count": 466,
   "id": "7f94092a",
   "metadata": {},
   "outputs": [
    {
     "name": "stdout",
     "output_type": "stream",
     "text": [
      "total:62.08102798461914\n"
     ]
    }
   ],
   "source": [
    "eps = 0.01\n",
    "y0 = 0\n",
    "x0 = 0\n",
    "n = 30000\n",
    "prop_sig_x = 2\n",
    "prop_sig_y = 2\n",
    "\n",
    "mu = np.array([-5, 5])\n",
    "\n",
    "x_out = simulate(mu,sigma, alpha, p , n , y0, prop_sig_x, prop_sig_y, x0, eps)"
   ]
  },
  {
   "cell_type": "markdown",
   "id": "731e13fe",
   "metadata": {},
   "source": [
    "1. \n",
    "First step, sigma = [1,1,1]\n",
    "mu = [-10, 0, 10]\n",
    "alpha = [1/3, 1/3, 1/3]\n"
   ]
  },
  {
   "cell_type": "markdown",
   "id": "38ad706a",
   "metadata": {},
   "source": [
    "Below we plot the results of this simulation."
   ]
  },
  {
   "cell_type": "code",
   "execution_count": 467,
   "id": "22624b34",
   "metadata": {},
   "outputs": [
    {
     "data": {
      "text/plain": [
       "[<matplotlib.lines.Line2D at 0x7f93db94c2e0>]"
      ]
     },
     "execution_count": 467,
     "metadata": {},
     "output_type": "execute_result"
    },
    {
     "data": {
      "image/png": "[encoded data removed]",
      "text/plain": [
       "<Figure size 432x288 with 1 Axes>"
      ]
     },
     "metadata": {
      "needs_background": "light"
     },
     "output_type": "display_data"
    }
   ],
   "source": [
    "f_pi_plot = lambda z: f_pi(z, mu, sigma, alpha)\n",
    "\n",
    "plt.hist(x_out, density = True, bins = 100)\n",
    "\n",
    "t = np.linspace(-20,25,1000)\n",
    "vals = f_pi_plot(t)\n",
    "\n",
    "plt.plot(t,vals, 'r')"
   ]
  },
  {
   "cell_type": "code",
   "execution_count": 464,
   "id": "4a581ef3",
   "metadata": {},
   "outputs": [],
   "source": [
    "z0 = 0\n",
    "prop_sig_z = 2\n",
    "n = 30000\n",
    "z_out = k_kernel_nsteps(z0, prop_sig_z, n, mu, sigma, alpha)"
   ]
  },
  {
   "cell_type": "code",
   "execution_count": 465,
   "id": "1a0bff1a",
   "metadata": {},
   "outputs": [
    {
     "data": {
      "text/plain": [
       "[<matplotlib.lines.Line2D at 0x7f93ccebf3d0>]"
      ]
     },
     "execution_count": 465,
     "metadata": {},
     "output_type": "execute_result"
    },
    {
     "data": {
      "image/png": "[encoded data removed]",
      "text/plain": [
       "<Figure size 432x288 with 1 Axes>"
      ]
     },
     "metadata": {
      "needs_background": "light"
     },
     "output_type": "display_data"
    }
   ],
   "source": [
    "f_pi_plot = lambda z: f_pi(z, mu, sigma, alpha)\n",
    "\n",
    "plt.hist(z_out, density = True, bins = 100)\n",
    "\n",
    "t = np.linspace(-25,25,1000)\n",
    "vals = f_pi_plot(t)\n",
    "\n",
    "plt.plot(t,vals, 'r')"
   ]
  },
  {
   "cell_type": "markdown",
   "id": "f30f4e90",
   "metadata": {},
   "source": [
    "**OLD CODE BELOW**"
   ]
  },
  {
   "cell_type": "code",
   "execution_count": null,
   "id": "ce45296b",
   "metadata": {},
   "outputs": [],
   "source": [
    "mu = np.array([-10,10])"
   ]
  },
  {
   "cell_type": "markdown",
   "id": "ef43cac3",
   "metadata": {},
   "source": [
    "Choose U ~ {1,...,N}, where N = # of Y particles "
   ]
  },
  {
   "cell_type": "markdown",
   "id": "e15e043c",
   "metadata": {},
   "source": [
    "**Generalized Toy Example - Self-Interacting**"
   ]
  },
  {
   "cell_type": "code",
   "execution_count": 243,
   "id": "35b9160f",
   "metadata": {},
   "outputs": [
    {
     "ename": "SyntaxError",
     "evalue": "invalid syntax (<ipython-input-243-5f76986aa054>, line 2)",
     "output_type": "error",
     "traceback": [
      "\u001b[0;36m  File \u001b[0;32m\"<ipython-input-243-5f76986aa054>\"\u001b[0;36m, line \u001b[0;32m2\u001b[0m\n\u001b[0;31m    def simulate(mu, sigma, n, alpha_list, p, y0, prop_sig_x, prop_sig_y x0, epsilon):\u001b[0m\n\u001b[0m                                                                         ^\u001b[0m\n\u001b[0;31mSyntaxError\u001b[0m\u001b[0;31m:\u001b[0m invalid syntax\n"
     ]
    }
   ],
   "source": [
    "# generalized toy example\n",
    "def simulate(mu, sigma, n, alpha_list, p, y0, prop_sig_x, prop_sig_y x0, epsilon):\n",
    "    start = time.time()    \n",
    "    \n",
    "    def x_sample(x0, epsilon, y0, n, sigma):\n",
    "        X_list = [0]*n\n",
    "        X_list[0] = x0\n",
    "        Y_list = [0]*n\n",
    "        Y_list[0] = y0\n",
    "        sum_gs = g(y0)\n",
    "        Y_list = p_kernel(y0,sigma,n)\n",
    "        prob_list_Ys = np.array([1])\n",
    "        \n",
    "        for k in range(1, n):\n",
    "            prob_list_Ys = prob_list(Y_list[k], sum_gs, prob_list_Ys)\n",
    "            sum_gs = sum_g(sum_gs, Y_list[k])\n",
    "            i = bernoulli(epsilon).rvs(1)\n",
    "            if i == 0:\n",
    "                X_list[k] = (k_kernel(x0, sigma))\n",
    "            else:\n",
    "                X_list[k] = (np.random.choice(Y_list[:k+1], p = prob_list_Ys))\n",
    "            x0 = X_list[k]\n",
    "            \n",
    "        return X_list\n",
    "    \n",
    "    X_list = x_sample(x0, epsilon, y0, n, sigma)\n",
    "    mean = sum(X_list)/len(X_list)\n",
    "    \n",
    "    \n",
    "    print(\"total:\"+str(time.time() - start))\n",
    "    \n",
    "    return [X_list, mean]"
   ]
  },
  {
   "cell_type": "code",
   "execution_count": 14,
   "id": "a9df8f9c",
   "metadata": {},
   "outputs": [
    {
     "name": "stdout",
     "output_type": "stream",
     "text": [
      "total:47.3067262172699\n",
      "total:47.73451590538025\n"
     ]
    }
   ],
   "source": [
    "mu_list = [0,17.5,10]\n",
    "sigma_list = [.5,1,0.7]\n",
    "alpha_list = [0.4,0.2,0.4]\n",
    "p = 0.75\n",
    "n = 10000\n",
    "y0 = 15\n",
    "x0 = 10\n",
    "sigma = 10\n",
    "epsilon = 0.05\n",
    "\n",
    "X_list1 = simulate(mu_list, sigma_list, n, alpha_list, p, y0, sigma, x0, epsilon)[0]\n",
    "'''\n",
    "X_list2 = simulate(mu_list, sigma_list, n, alpha_list, p, y0, sigma, x0, epsilon)[0]\n",
    "X_list3 = simulate(mu_list, sigma_list, n, alpha_list, p, y0, sigma, x0, epsilon)[0]\n",
    "X_list4 = simulate(mu_list, sigma_list, n, alpha_list, p, y0, sigma, x0, epsilon)[0]\n",
    "X_list5 = simulate(mu_list, sigma_list, n, alpha_list, p, y0, sigma, x0, epsilon)[0]\n",
    "X_list6 = simulate(mu_list, sigma_list, n, alpha_list, p, y0, sigma, x0, epsilon)[0]\n",
    "X_list7 = simulate(mu_list, sigma_list, n, alpha_list, p, y0, sigma, x0, epsilon)[0]\n",
    "X_list8 = simulate(mu_list, sigma_list, n, alpha_list, p, y0, sigma, x0, epsilon)[0]\n",
    "X_list9 = simulate(mu_list, sigma_list, n, alpha_list, p, y0, sigma, x0, epsilon)[0]\n",
    "X_list10 = simulate(mu_list, sigma_list, n, alpha_list, p, y0, sigma, x0, epsilon)[0]\n",
    "'''\n",
    "mean = simulate(mu_list, sigma_list, n, alpha_list, p, y0, sigma, x0, epsilon)[1]"
   ]
  },
  {
   "cell_type": "code",
   "execution_count": 15,
   "id": "ef9f704c",
   "metadata": {},
   "outputs": [
    {
     "name": "stdout",
     "output_type": "stream",
     "text": [
      "9.15124553356507\n"
     ]
    }
   ],
   "source": [
    "print(mean)"
   ]
  },
  {
   "cell_type": "code",
   "execution_count": 17,
   "id": "bdd4c1cd",
   "metadata": {},
   "outputs": [],
   "source": [
    "def compute_expected_value(mu_list, alpha_list):\n",
    "    return np.inner(mu_list,alpha_list)"
   ]
  },
  {
   "cell_type": "code",
   "execution_count": 18,
   "id": "055e7b9a",
   "metadata": {
    "scrolled": true
   },
   "outputs": [
    {
     "data": {
      "text/plain": [
       "7.5"
      ]
     },
     "execution_count": 18,
     "metadata": {},
     "output_type": "execute_result"
    }
   ],
   "source": [
    "compute_expected_value(mu_list,alpha_list)"
   ]
  },
  {
   "cell_type": "code",
   "execution_count": 19,
   "id": "2288f4c5",
   "metadata": {},
   "outputs": [
    {
     "data": {
      "text/plain": [
       "[<matplotlib.lines.Line2D at 0x7f93da295790>]"
      ]
     },
     "execution_count": 19,
     "metadata": {},
     "output_type": "execute_result"
    },
    {
     "data": {
      "image/png": "[encoded data removed]",
      "text/plain": [
       "<Figure size 432x288 with 1 Axes>"
      ]
     },
     "metadata": {
      "needs_background": "light"
     },
     "output_type": "display_data"
    }
   ],
   "source": [
    "# plot\n",
    "pdf_pi = lambda x: 0.4*(1/np.sqrt(2*math.pi*0.5))*np.exp((-1/2)*((x-0)**2/0.5)) + 0.2*(1/np.sqrt(2*math.pi*1))*np.exp((-1/2)*((x-17.5)**2/1))+0.4*(1/np.sqrt(2*math.pi*0.7))*np.exp((-1/2)*((x-10)**2/0.7))\n",
    "\n",
    "plt.hist(X_list1, density = True, bins = 100)\n",
    "t = np.linspace(-5,25,1000)\n",
    "vals = pdf_pi(t)\n",
    "plt.plot(t,vals, 'r')"
   ]
  },
  {
   "cell_type": "markdown",
   "id": "ae83574c",
   "metadata": {},
   "source": [
    "**Many Particles - Non-Interacting**"
   ]
  },
  {
   "cell_type": "code",
   "execution_count": 4,
   "id": "27f7e093",
   "metadata": {},
   "outputs": [],
   "source": [
    "# x_i move according to y_i\n",
    "def simulate_list1(mu_list, sigma_list, n, alpha_list, p, y0_list, sigma, x0_list, epsilon, N):\n",
    "    start = time.time()\n",
    "    \n",
    "    def f_pi(x):\n",
    "        val = 0\n",
    "        for i in range(len(mu_list)):\n",
    "            val += alpha_list[i]*norm.pdf(x,mu_list[i], sigma_list[i]**0.5)\n",
    "        return val\n",
    "    \n",
    "\n",
    "    def pdf_eta(x):\n",
    "        return f_pi(x)**p\n",
    "\n",
    "    c = integrate.quad(pdf_eta, -np.inf, np.inf)[0]\n",
    "    \n",
    "    def f_eta(x):\n",
    "        return pdf_eta(x)/c\n",
    "    \n",
    "    def g(x):\n",
    "        return(f_pi(x)/f_eta(x))\n",
    "    \n",
    "    '''\n",
    "    def p_kernel_adjust(y0_list, sigma, n):\n",
    "        Yn_list = y0_list\n",
    "        estimator_matrix = np.empty((0,n), int)\n",
    "        for i in range(len(Yn_list)):\n",
    "            count = 0\n",
    "            estimator_list = [y0_list[i]]\n",
    "            Yn_list = y0_list\n",
    "            while count<n:\n",
    "                y = np.random.normal(Yn_list[i], sigma)\n",
    "                u = np.random.uniform(0,1)\n",
    "                alpha = (min((pdf_eta(y)/pdf_eta(Yn_list[i])),1))\n",
    "                if u <= alpha:\n",
    "                    estimator_list.append(y)\n",
    "                    Yn_list[i] = y\n",
    "                    count += 1\n",
    "            estimator_matrix = np.append(estimator_matrix, [estimator_list[1:]], axis=0)\n",
    "        return estimator_matrix\n",
    "\n",
    "    def k_kernel_adjust(x0_list,sigma):\n",
    "        Xn_list = x0_list\n",
    "        estimator_matrix = np.empty((0,2), int)\n",
    "        for i in range(len(Xn_list)):\n",
    "            count = 0\n",
    "            estimator_list = [x0_list[i]]\n",
    "            Xn_list = x0_list\n",
    "            while count<1:\n",
    "                y = np.random.normal(Xn_list[i],sigma)\n",
    "                u = np.random.uniform(0,1)\n",
    "                alpha = min((pdf_eta(y)/pdf_eta(Xn_list[i])),1)\n",
    "                if u <= alpha:\n",
    "                    estimator_list.append(y)\n",
    "                    Xn_list[i] = y\n",
    "                    count +=1\n",
    "            estimator_matrix = np.append(estimator_matrix, [estimator_list], axis=0)\n",
    "        return estimator_matrix\n",
    "    '''\n",
    "    \n",
    "    def p_kernel(y0, sigma, n):\n",
    "        count = 0\n",
    "        Yn = y0\n",
    "        estimator = [y0]\n",
    "        while count<n:\n",
    "            y = np.random.normal(Yn, sigma)\n",
    "            u = np.random.uniform(0,1)\n",
    "            alpha = min((pdf_eta(y)/pdf_eta(Yn)),1)\n",
    "            if u <= alpha:\n",
    "                estimator.append(y)\n",
    "                Yn = y\n",
    "                count += 1\n",
    "        return estimator\n",
    "    \n",
    "    def k_kernel(x0, sigma):\n",
    "        count = 0\n",
    "        Xn = x0\n",
    "        estimator = [x0]\n",
    "        while count<1:\n",
    "            y = np.random.normal(Xn,sigma)\n",
    "            u = np.random.uniform(0,1)\n",
    "            alpha = min((pdf_eta(y)/pdf_eta(Xn)),1)\n",
    "            if u <= alpha:\n",
    "                estimator.append(y)\n",
    "                Xn = y\n",
    "                count += 1\n",
    "        return estimator[-1]\n",
    "    \n",
    "    def sum_g(sum_old, yn):\n",
    "        return sum_old + g(yn)\n",
    "\n",
    "    def prob_list(y_value, sum_old, prob_list_old):\n",
    "        a = sum_old/sum_g(sum_old, y_value)\n",
    "        prob_list = prob_list_old*a\n",
    "        prob_list = np.append(prob_list, g(y_value)/sum_g(sum_old, y_value))\n",
    "        return prob_list\n",
    "    \n",
    "    def x_sample(x0_list, epsilon, y0_list, n, sigma, N):\n",
    "        X_matrix = np.empty((0,n),int)\n",
    "        Y_matrix = np.empty((0,n),int)\n",
    "        for i in range(N):\n",
    "            sum_gs = g(y0_list[i])\n",
    "            X_list = [x0_list[i]]\n",
    "            Y_list = p_kernel(y0_list[i], sigma, n)\n",
    "            prob_list_Ys = np.array([1])\n",
    "            for k in range(1, n):\n",
    "                prob_list_Ys = prob_list(Y_list[k], sum_gs, prob_list_Ys)\n",
    "                sum_gs = sum_g(sum_gs, Y_list[k])\n",
    "                j = bernoulli(epsilon).rvs(1)\n",
    "                if j == 0:\n",
    "                    X_list.append(k_kernel(x0_list[i], sigma))\n",
    "                else:\n",
    "                    X_list.append(np.random.choice(Y_list[:k+1], p = prob_list_Ys))\n",
    "            X_matrix = np.append(X_matrix, [X_list], axis=0)\n",
    "            x0_list[i] = X_matrix[i][-1]\n",
    "        return X_matrix\n",
    "    \n",
    "    X_matrix = x_sample(x0_list, epsilon, y0_list, n, sigma, N)\n",
    "    mean = X_matrix.sum()/X_matrix.size\n",
    "    \n",
    "    print(\"total:\"+str(time.time() - start))\n",
    "    \n",
    "    return [mean, X_matrix.flatten()]"
   ]
  },
  {
   "cell_type": "code",
   "execution_count": 5,
   "id": "7c5afb53",
   "metadata": {},
   "outputs": [
    {
     "name": "stdout",
     "output_type": "stream",
     "text": [
      "total:0.6765987873077393\n",
      "total:0.5984041690826416\n"
     ]
    }
   ],
   "source": [
    "mu_list = [0,17.5,10]\n",
    "sigma_list = [.5,1,0.7]\n",
    "alpha_list = [0.4,0.2,0.4]\n",
    "p = 0.75\n",
    "n = 100\n",
    "y0_list = [15, -5, 12, 1, -2]\n",
    "x0_list = [10, 13, -4, -2, 3]\n",
    "sigma = 10\n",
    "epsilon = 0.05\n",
    "N = 1\n",
    "\n",
    "X_list = simulate_list1(mu_list, sigma_list, n, alpha_list, p, y0_list, sigma, x0_list, epsilon, N)[1]\n",
    "mean = simulate_list1(mu_list, sigma_list, n, alpha_list, p, y0_list, sigma, x0_list, epsilon, N)[0]\n"
   ]
  },
  {
   "cell_type": "code",
   "execution_count": 6,
   "id": "7711cc5b",
   "metadata": {},
   "outputs": [
    {
     "name": "stdout",
     "output_type": "stream",
     "text": [
      "6.1830916389098\n"
     ]
    }
   ],
   "source": [
    "print(mean)"
   ]
  },
  {
   "cell_type": "code",
   "execution_count": 7,
   "id": "5d99599f",
   "metadata": {},
   "outputs": [
    {
     "data": {
      "text/plain": [
       "[<matplotlib.lines.Line2D at 0x7f93c96318b0>]"
      ]
     },
     "execution_count": 7,
     "metadata": {},
     "output_type": "execute_result"
    },
    {
     "data": {
      "image/png": "[encoded data removed]",
      "text/plain": [
       "<Figure size 432x288 with 1 Axes>"
      ]
     },
     "metadata": {
      "needs_background": "light"
     },
     "output_type": "display_data"
    }
   ],
   "source": [
    "pdf_eta = lambda x: 0.4*(1/np.sqrt(2*math.pi*0.5))*np.exp((-1/2)*((x-0)**2/0.5)) + 0.2*(1/np.sqrt(2*math.pi*1))*np.exp((-1/2)*((x-17.5)**2/1))+0.4*(1/np.sqrt(2*math.pi*0.7))*np.exp((-1/2)*((x-10)**2/0.7))\n",
    "\n",
    "plt.hist(X_list, density = True, bins = 100)\n",
    "t = np.linspace(-5,25,1000)\n",
    "vals = pdf_eta(t)\n",
    "plt.plot(t,vals, 'r')\n"
   ]
  },
  {
   "cell_type": "markdown",
   "id": "e89030c1",
   "metadata": {},
   "source": [
    "**Many Particles - Interacting**"
   ]
  },
  {
   "cell_type": "code",
   "execution_count": 8,
   "id": "e916f9b1",
   "metadata": {},
   "outputs": [],
   "source": [
    "# x_i move according to all ys\n",
    "def simulate_list2(mu_list, sigma_list, n, alpha_list, p, y0_list, sigma, x0_list, epsilon, N):\n",
    "    start = time.time()\n",
    "    \n",
    "    def f_pi(x):\n",
    "        val = 0\n",
    "        for i in range(len(mu_list)):\n",
    "            val += alpha_list[i]*norm.pdf(x,mu_list[i], sigma_list[i]**0.5)\n",
    "        return val\n",
    "\n",
    "    def pdf_eta(x):\n",
    "        return f_pi(x)**p\n",
    "\n",
    "    c = integrate.quad(pdf_eta, -np.inf, np.inf)[0]\n",
    "    \n",
    "    def f_eta(x):\n",
    "        return pdf_eta(x)/c\n",
    "    \n",
    "    def g(x):\n",
    "        return(f_pi(x)/f_eta(x))\n",
    "    \n",
    "    '''\n",
    "    def p_kernel_adjust(y0_list, sigma, n):\n",
    "        Yn_list = y0_list\n",
    "        estimator_matrix = np.empty((0,n), int)\n",
    "        for i in range(len(Yn_list)):\n",
    "            count = 0\n",
    "            estimator_list = [y0_list[i]]\n",
    "            Yn_list = y0_list\n",
    "            while count<n:\n",
    "                y = np.random.normal(Yn_list[i], sigma)\n",
    "                u = np.random.uniform(0,1)\n",
    "                alpha = (min((pdf_eta(y)/pdf_eta(Yn_list[i])),1))\n",
    "                if u <= alpha:\n",
    "                    estimator_list.append(y)\n",
    "                    Yn_list[i] = y\n",
    "                    count += 1\n",
    "            estimator_matrix = np.append(estimator_matrix, [estimator_list[1:]], axis=0)\n",
    "        return estimator_matrix\n",
    "\n",
    "    def k_kernel_adjust(x0_list,sigma):\n",
    "        Xn_list = x0_list\n",
    "        estimator_matrix = np.empty((0,2), int)\n",
    "        for i in range(len(Xn_list)):\n",
    "            count = 0\n",
    "            estimator_list = [x0_list[i]]\n",
    "            Xn_list = x0_list\n",
    "            while count<1:\n",
    "                y = np.random.normal(Xn_list[i],sigma)\n",
    "                u = np.random.uniform(0,1)\n",
    "                alpha = min((pdf_eta(y)/pdf_eta(Xn_list[i])),1)\n",
    "                if u <= alpha:\n",
    "                    estimator_list.append(y)\n",
    "                    Xn_list[i] = y\n",
    "                    count +=1\n",
    "            estimator_matrix = np.append(estimator_matrix, [estimator_list], axis=0)\n",
    "        return estimator_matrix\n",
    "    '''\n",
    "    \n",
    "    def p_kernel(y0, sigma, n):\n",
    "        count = 0\n",
    "        Yn = y0\n",
    "        estimator = [y0]\n",
    "        while count<n:\n",
    "            y = np.random.normal(Yn, sigma)\n",
    "            u = np.random.uniform(0,1)\n",
    "            alpha = min((pdf_eta(y)/pdf_eta(Yn)),1)\n",
    "            if u <= alpha:\n",
    "                estimator.append(y)\n",
    "                Yn = y\n",
    "                count += 1\n",
    "        return estimator\n",
    "    \n",
    "    def k_kernel(x0, sigma):\n",
    "        count = 0\n",
    "        Xn = x0\n",
    "        estimator = [x0]\n",
    "        while count<1:\n",
    "            y = np.random.normal(Xn,sigma)\n",
    "            u = np.random.uniform(0,1)\n",
    "            alpha = min((pdf_eta(y)/pdf_eta(Xn)),1)\n",
    "            if u <= alpha:\n",
    "                estimator.append(y)\n",
    "                Xn = y\n",
    "                count += 1\n",
    "        return estimator[-1]\n",
    "    \n",
    "    def sum_g(sum_old, yn):\n",
    "        sum_new = sum_old + g(yn)\n",
    "        return sum_new\n",
    "    \n",
    "    def prob_matrix_new(Y_matrix, sum_new):\n",
    "        prob_matrix = np.zeros((len(Y_matrix),len(Y_matrix[0])))\n",
    "        for i in range(len(Y_matrix[0])):\n",
    "            for j in range(len(Y_matrix)):\n",
    "                prob_matrix[j][i] = g(Y_matrix[j][i])/sum_new\n",
    "        return prob_matrix\n",
    "    \n",
    "    def prob_matrix(Y_list, sum_old, prob_matrix_old):\n",
    "        g_value = 0\n",
    "        for i in (Y_list):\n",
    "            g_value += g(i)\n",
    "        sum_new = sum_old+g_value\n",
    "        a = sum_old/sum_new\n",
    "        prob_matrix = prob_matrix_old*a\n",
    "        for i in range(len(Y_list)):\n",
    "            Y_list [i] = g(Y_list[i])/sum_new\n",
    "        prob_matrix = np.insert(prob_matrix,len(prob_matrix[0])-1,Y_list,axis=1)\n",
    "        return prob_matrix\n",
    "    \n",
    "    def bernoulli_list(epsilon, n):\n",
    "        b_list = bernoulli(epsilon).rvs(n)\n",
    "        return b_list\n",
    "    \n",
    "    def x_sample(x0_list, epsilon, y0_list, n, sigma, N):\n",
    "        X_matrix = np.empty(shape=(N,0),dtype='float')\n",
    "        Y_matrix = np.empty(shape=(N,0),dtype='float')\n",
    "        Y_matrix = np.insert(Y_matrix,0,y0_list,axis=1)\n",
    "        X_matrix = np.insert(X_matrix,0,x0_list,axis=1)\n",
    "        sum_Gs = 0\n",
    "        Prob_matrix = np.empty(shape=(N,0),dtype='float')\n",
    "        Prob_list = []\n",
    "        \n",
    "        for i in (y0_list):\n",
    "            sum_Gs += g(i)\n",
    "            \n",
    "        for i in y0_list:\n",
    "            Prob_list.append(g(i)/sum_Gs)\n",
    "        Prob_matrix = np.insert(Prob_matrix, 0, Prob_list, axis=1)\n",
    "        \n",
    "        for i in range(n):\n",
    "            sum_g = 0\n",
    "            y_list = []\n",
    "            x_list = []\n",
    "            for j in range(N):\n",
    "                y_list.append(p_kernel(Y_matrix[j][-1], sigma, 1)[-1])\n",
    "                sum_g += g(y_list[j])\n",
    "                \n",
    "            Y_matrix = np.insert(Y_matrix, len(Y_matrix[0])-1, y_list, axis=1)\n",
    "            Prob_matrix = prob_matrix(Y_matrix[:,i], sum_Gs, Prob_matrix)\n",
    "            Y_matrix_flatten = Y_matrix.flatten()\n",
    "            Prob_matrix_flatten = Prob_matrix.flatten()\n",
    "            sum_Gs += sum_g\n",
    "            \n",
    "            for j in range(N):\n",
    "                b = bernoulli(epsilon).rvs(1)\n",
    "                if b == 0:\n",
    "                    x_list.append(k_kernel(X_matrix[j][-1], sigma))\n",
    "                if b == 1:\n",
    "                    x_list.append(np.random.choice(Y_matrix_flatten, p = Prob_matrix_flatten))\n",
    "            \n",
    "            X_matrix = np.insert(X_matrix, len(X_matrix[0])-1, x_list, axis=1)\n",
    "            \n",
    "        return X_matrix\n",
    "    \n",
    "    def E_x(X_matrix):\n",
    "        sum_matrix = X_matrix.sum()\n",
    "        len_matrix = X_matrix.size\n",
    "        average_matrix = sum_matrix/len_matrix\n",
    "        return average_matrix\n",
    "    \n",
    "    X_matrix = x_sample(x0_list, epsilon, y0_list, n, sigma, N)\n",
    "    mean = X_matrix.sum()/X_matrix.size\n",
    "    \n",
    "    print(\"total:\"+str(time.time() - start))\n",
    "    \n",
    "    return mean, X_matrix.flatten()"
   ]
  },
  {
   "cell_type": "code",
   "execution_count": 9,
   "id": "a8d24e23",
   "metadata": {},
   "outputs": [
    {
     "name": "stdout",
     "output_type": "stream",
     "text": [
      "total:1.8377761840820312\n",
      "total:1.795745849609375\n",
      "total:1.7590901851654053\n",
      "total:1.763627052307129\n",
      "total:1.7202413082122803\n"
     ]
    }
   ],
   "source": [
    "mu_list = [0,17.5,10]\n",
    "sigma_list = [.5,1,0.7]\n",
    "alpha_list = [0.4,0.2,0.4]\n",
    "p = 0.75\n",
    "n = 100\n",
    "y0_list = [15, 5, 2, 11, 2]\n",
    "x0_list = [10,3,14,-2,13]\n",
    "sigma = 10\n",
    "epsilon = 0.05\n",
    "N = 5\n",
    "\n",
    "X_list11 = simulate_list2(mu_list, sigma_list, n, alpha_list, p, y0_list, sigma, x0_list, epsilon, N)[1]\n",
    "X_list12 = simulate_list2(mu_list, sigma_list, n, alpha_list, p, y0_list, sigma, x0_list, epsilon, N)[1]\n",
    "X_list13 = simulate_list2(mu_list, sigma_list, n, alpha_list, p, y0_list, sigma, x0_list, epsilon, N)[1]\n",
    "X_list14 = simulate_list2(mu_list, sigma_list, n, alpha_list, p, y0_list, sigma, x0_list, epsilon, N)[1]\n",
    "X_list15 = simulate_list2(mu_list, sigma_list, n, alpha_list, p, y0_list, sigma, x0_list, epsilon, N)[1]\n",
    "\n",
    "# mean = simulate_list2(mu_list, sigma_list, n, alpha_list, p, y0_list, sigma, x0_list, epsilon, N)[0]\n",
    "# print(mean)"
   ]
  },
  {
   "cell_type": "code",
   "execution_count": 10,
   "id": "4269aedd",
   "metadata": {},
   "outputs": [
    {
     "data": {
      "text/plain": [
       "[<matplotlib.lines.Line2D at 0x7f93e8317f10>]"
      ]
     },
     "execution_count": 10,
     "metadata": {},
     "output_type": "execute_result"
    },
    {
     "data": {
      "image/png": "[encoded data removed]",
      "text/plain": [
       "<Figure size 432x288 with 1 Axes>"
      ]
     },
     "metadata": {
      "needs_background": "light"
     },
     "output_type": "display_data"
    }
   ],
   "source": [
    "pdf_pi = lambda x: 0.4*(1/np.sqrt(2*math.pi*0.5))*np.exp((-1/2)*((x-0)**2/0.5)) + 0.2*(1/np.sqrt(2*math.pi*1))*np.exp((-1/2)*((x-17.5)**2/1))+0.4*(1/np.sqrt(2*math.pi*0.7))*np.exp((-1/2)*((x-10)**2/0.7))\n",
    "\n",
    "plt.hist(X_list, density = True, bins = 100)\n",
    "t = np.linspace(-5,25,1000)\n",
    "vals = pdf_pi(t)\n",
    "plt.plot(t,vals, 'r')"
   ]
  },
  {
   "cell_type": "code",
   "execution_count": null,
   "id": "9ca50217",
   "metadata": {},
   "outputs": [],
   "source": []
  },
  {
   "cell_type": "code",
   "execution_count": null,
   "id": "ab8c6310",
   "metadata": {},
   "outputs": [],
   "source": []
  },
  {
   "cell_type": "code",
   "execution_count": null,
   "id": "343955ee",
   "metadata": {},
   "outputs": [],
   "source": []
  },
  {
   "cell_type": "code",
   "execution_count": null,
   "id": "a762fb02",
   "metadata": {},
   "outputs": [],
   "source": []
  }
 ],
 "metadata": {
  "kernelspec": {
   "display_name": "base",
   "language": "python",
   "name": "python3"
  },
  "language_info": {
   "codemirror_mode": {
    "name": "ipython",
    "version": 3
   },
   "file_extension": ".py",
   "mimetype": "text/x-python",
   "name": "python",
   "nbconvert_exporter": "python",
   "pygments_lexer": "ipython3",
   "version": "3.8.13 (default, Mar 28 2022, 06:16:26) \n[Clang 12.0.0 ]"
  },
  "vscode": {
   "interpreter": {
    "hash": "40d3a090f54c6569ab1632332b64b2c03c39dcf918b08424e98f38b5ae0af88f"
   }
  }
 },
 "nbformat": 4,
 "nbformat_minor": 5
}
