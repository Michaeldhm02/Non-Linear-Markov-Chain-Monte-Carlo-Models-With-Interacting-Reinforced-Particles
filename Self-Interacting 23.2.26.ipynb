{
 "cells": [
  {
   "cell_type": "markdown",
   "id": "12c9947d",
   "metadata": {},
   "source": [
    "### Import all packages"
   ]
  },
  {
   "cell_type": "code",
   "execution_count": 1,
   "id": "ab838dd2",
   "metadata": {},
   "outputs": [],
   "source": [
    "import numpy as np\n",
    "import random as rm\n",
    "import pandas as pd\n",
    "from random import seed\n",
    "from random import random\n",
    "import matplotlib.pyplot as plt\n",
    "from pylab import *\n",
    "from scipy.optimize import curve_fit\n",
    "from scipy.stats import bernoulli, binom, norm\n",
    "from scipy import integrate\n",
    "import time"
   ]
  },
  {
   "cell_type": "markdown",
   "id": "7105e8ef",
   "metadata": {},
   "source": [
    "### Basic Functions"
   ]
  },
  {
   "cell_type": "code",
   "execution_count": 2,
   "id": "0102d8d2",
   "metadata": {},
   "outputs": [],
   "source": [
    "def f_pi(x, mu, sigma, alpha):\n",
    "    val = 0\n",
    "    for i in range(len(mu)):\n",
    "        val += alpha[i]*norm.pdf(x, mu[i], sigma[i])\n",
    "    return val\n",
    "    \n",
    "def f_eta_unnormalized(x, mu, sigma, alpha, p):\n",
    "    return f_pi(x, mu, sigma, alpha)**p\n",
    "\n",
    "def compute_c(mu, sigma, alpha, p):\n",
    "    def f_eta_unnormalized_temp(x):\n",
    "        return f_eta_unnormalized(x, mu, sigma, alpha, p)\n",
    "    c = integrate.quad(f_eta_unnormalized_temp, -np.inf, np.inf)[0]\n",
    "    return c\n",
    "\n",
    "# c = compute_c(mu, sigma, alpha, p)\n",
    "    \n",
    "def f_eta(x, mu, sigma, alpha, p, c):\n",
    "    return f_eta_unnormalized(x, mu, sigma, alpha, p)/c\n",
    "\n",
    "def g(x, mu, sigma, alpha, p, c):\n",
    "    return(f_pi(x, mu, sigma, alpha)/f_eta(x, mu, sigma, alpha, p, c))"
   ]
  },
  {
   "cell_type": "markdown",
   "id": "899aa30e",
   "metadata": {},
   "source": [
    "### P kernel and K kernel"
   ]
  },
  {
   "cell_type": "code",
   "execution_count": 3,
   "id": "b87f9605",
   "metadata": {},
   "outputs": [],
   "source": [
    "def p_kernel(y0, prop_sig_y, n, mu, sigma, alpha, p):\n",
    "        count = 0\n",
    "        Yn = y0\n",
    "        estimator = np.array([y0])\n",
    "        while count < n:\n",
    "            y = np.random.normal(Yn, prop_sig_y)\n",
    "            u = np.random.uniform(0,1)\n",
    "            a = min(f_eta_unnormalized(y, mu, sigma, alpha, p)/f_eta_unnormalized(Yn, mu, sigma, alpha, p), 1)\n",
    "            if u <= a:\n",
    "                estimator = np.append(estimator, y)\n",
    "                Yn = y\n",
    "                count += 1\n",
    "        return estimator"
   ]
  },
  {
   "cell_type": "code",
   "execution_count": 4,
   "id": "d1822c43",
   "metadata": {},
   "outputs": [],
   "source": [
    "def k_kernel_nsteps(z0, prop_sig_z, n, mu, sigma, alpha):\n",
    "        count = 0\n",
    "        Zn = z0\n",
    "        estimator = np.array([z0])\n",
    "        while count < n:\n",
    "            z = np.random.normal(Zn, prop_sig_z)\n",
    "            u = np.random.uniform(0,1)\n",
    "            a = min(f_pi(z, mu, sigma, alpha)/f_pi(Zn, mu, sigma, alpha), 1)\n",
    "            if u <= a:\n",
    "                estimator = np.append(estimator, z)\n",
    "                Zn = z\n",
    "                count += 1\n",
    "        return estimator"
   ]
  },
  {
   "cell_type": "code",
   "execution_count": 5,
   "id": "26413112",
   "metadata": {},
   "outputs": [],
   "source": [
    "def k_kernel(Xn, prop_sig_x, mu, sigma, alpha):\n",
    "    Xnew = k_kernel_nsteps(Xn, prop_sig_x, 1, mu, sigma, alpha)[-1]\n",
    "    return(Xnew)"
   ]
  },
  {
   "cell_type": "markdown",
   "id": "e294a0f9",
   "metadata": {},
   "source": [
    "### Update Y functions"
   ]
  },
  {
   "cell_type": "code",
   "execution_count": 6,
   "id": "b296b703",
   "metadata": {},
   "outputs": [],
   "source": [
    "def sum_g(sum_old, yn, mu, sigma, alpha, p, c):\n",
    "    return sum_old + g(yn, mu, sigma, alpha, p, c)\n",
    "\n",
    "def prob_list(y, sum_old, prob_list_old, mu, sigma, alpha, p, c):\n",
    "        a = sum_old/sum_g(sum_old, y, mu, sigma, alpha, p, c)\n",
    "        prob_list = prob_list_old*a\n",
    "        prob_list = np.append(prob_list, g(y, mu, sigma, alpha, p, c)/sum_g(sum_old, y, mu, sigma, alpha, p, c))\n",
    "        return prob_list"
   ]
  },
  {
   "cell_type": "markdown",
   "id": "575d5786",
   "metadata": {},
   "source": [
    "### Simulate Funcion"
   ]
  },
  {
   "cell_type": "code",
   "execution_count": 7,
   "id": "3d755896",
   "metadata": {},
   "outputs": [],
   "source": [
    "def est_error(x_list, mu, sigma, alpha, m):\n",
    "    \n",
    "    x_min = min(x_list)\n",
    "    x_max = max(x_list)\n",
    "    interval = x_max - x_min\n",
    "    d_interval = interval/m\n",
    "    error = 0\n",
    "    \n",
    "    for i in range(m):\n",
    "        count = 0\n",
    "        \n",
    "        for j in x_list:\n",
    "            if (x_min <= j) & (j<= (x_min+d_interval)):\n",
    "                count += 1\n",
    "                \n",
    "        real = count/len(x_list)\n",
    "        mid_point = (2*x_min + d_interval)/2\n",
    "        val = f_pi(mid_point, mu, sigma, alpha)\n",
    "        x_min = x_min + d_interval\n",
    "        error += abs(real-val)\n",
    "    \n",
    "    return error"
   ]
  },
  {
   "cell_type": "code",
   "execution_count": 8,
   "id": "dd1d6b78",
   "metadata": {},
   "outputs": [],
   "source": [
    "def simulate(mu, sigma, alpha, p, n, y0, prop_sig_x, prop_sig_y, x0, eps, m):    \n",
    "    \n",
    "    c = compute_c(mu, sigma, alpha, p)\n",
    "\n",
    "    X = np.zeros(n)\n",
    "    X[0] = x0\n",
    "    errors = []\n",
    "    diff = []\n",
    "\n",
    "    sum_gs = g(y0, mu, sigma, alpha, p, c)\n",
    "    \n",
    "    Y = p_kernel(y0, prop_sig_y, n, mu, sigma, alpha, p)\n",
    "    prob_list_Ys = np.array([1])\n",
    "        \n",
    "    for k in range(1, n):\n",
    "        prob_list_Ys = prob_list(Y[k], sum_gs, prob_list_Ys, mu, sigma, alpha, p, c)\n",
    "        sum_gs = sum_g(sum_gs, Y[k], mu, sigma, alpha, p, c)\n",
    "        i = bernoulli(eps).rvs(1)\n",
    "        if i == 0:\n",
    "            X[k] = k_kernel(x0, prop_sig_x, mu, sigma, alpha)\n",
    "        else:\n",
    "            X[k] = np.random.choice(Y[:k+1], p = prob_list_Ys)\n",
    "        x0 = X[k]    \n",
    "    \n",
    "    ## Calculate error\n",
    "    '''\n",
    "    for i in range(1,int(n/200)):\n",
    "        # print(X_matrix[:,:int(i*10)])\n",
    "        error = est_error(X[:int(i*200)], mu, sigma, alpha, m)\n",
    "        errors.append(error)\n",
    "    '''    \n",
    "    for i in range(1,50):\n",
    "        # print(X_matrix[:,:int(i*10)])\n",
    "        dif = sum(X[:int(i*n/50)])/int(i*n/50)\n",
    "        #-mu[0]*alpha[0]+mu[1]*alpha[1]\n",
    "        diff.append(dif)\n",
    "      \n",
    "    return X, diff"
   ]
  },
  {
   "cell_type": "markdown",
   "id": "27b6c43a",
   "metadata": {},
   "source": [
    "### Test Example"
   ]
  },
  {
   "cell_type": "code",
   "execution_count": 9,
   "id": "da50e3ff",
   "metadata": {},
   "outputs": [
    {
     "data": {
      "text/plain": [
       "11.487538131408062"
      ]
     },
     "execution_count": 9,
     "metadata": {},
     "output_type": "execute_result"
    }
   ],
   "source": [
    "epsilon = 0.01\n",
    "y0 = 0\n",
    "x0 = 0\n",
    "n = 10000\n",
    "prop_sig_x = 2\n",
    "prop_sig_y = 2\n",
    "mu = np.array([0, 17.5])\n",
    "sigma = np.array([1, 4])\n",
    "alpha = np.array([0.3, 0.7])\n",
    "p = 0.4\n",
    "m = int(n/50)\n",
    "\n",
    "x_out = simulate(mu, sigma, alpha, p , n , y0, prop_sig_x, prop_sig_y, x0, epsilon, m)[0]\n",
    "diff_list = simulate(mu, sigma, alpha, p , n , y0, prop_sig_x, prop_sig_y, x0, epsilon, m)[1]\n",
    "mean(diff_list)"
   ]
  },
  {
   "cell_type": "code",
   "execution_count": 10,
   "id": "ce61de7a",
   "metadata": {},
   "outputs": [
    {
     "data": {
      "text/plain": [
       "[<matplotlib.lines.Line2D at 0x7f9e18dc6430>]"
      ]
     },
     "execution_count": 10,
     "metadata": {},
     "output_type": "execute_result"
    },
    {
     "data": {
      "image/png": "[encoded data removed]",
      "text/plain": [
       "<Figure size 640x480 with 1 Axes>"
      ]
     },
     "metadata": {},
     "output_type": "display_data"
    }
   ],
   "source": [
    "f_pi_plot = lambda z: f_pi(z, mu, sigma, alpha)\n",
    "plt.hist(x_out, density = True, bins = 100)\n",
    "\n",
    "t = np.linspace(-20,25,1000)\n",
    "vals = f_pi_plot(t)\n",
    "\n",
    "plt.plot(t,vals, 'r')"
   ]
  },
  {
   "attachments": {},
   "cell_type": "markdown",
   "id": "30f8b57a",
   "metadata": {},
   "source": [
    "## Explore Initial Position for difference of expected and theoretical mean"
   ]
  },
  {
   "cell_type": "code",
   "execution_count": 18,
   "id": "80d772b4",
   "metadata": {},
   "outputs": [],
   "source": [
    "x0 = 0\n",
    "y0 = 0\n",
    "\n",
    "n=100000\n",
    "diff = []\n",
    "for i in range(50):\n",
    "    diff.append(mean(simulate(mu, sigma, alpha, p , n , y0, prop_sig_x, prop_sig_y, x0, epsilon, m)[1]))\n",
    "\n",
    "print(diff)\n",
    "plt.plot(diff)\n",
    "plt.show()"
   ]
  },
  {
   "cell_type": "code",
   "execution_count": null,
   "id": "7df11d1f",
   "metadata": {},
   "outputs": [],
   "source": [
    "x0 = 17.5\n",
    "y0 = 17.5\n",
    "\n",
    "n=100000\n",
    "diff = []\n",
    "for i in range(50):\n",
    "    diff.append(mean(simulate(mu, sigma, alpha, p , n , y0, prop_sig_x, prop_sig_y, x0, epsilon, m)[1]))\n",
    "\n",
    "print(diff)\n",
    "plt.plot(diff)\n",
    "plt.show()\n"
   ]
  },
  {
   "cell_type": "code",
   "execution_count": null,
   "id": "562e89b1",
   "metadata": {},
   "outputs": [],
   "source": [
    "x0 = 50\n",
    "y0 = 50\n",
    "\n",
    "n=100000\n",
    "diff = []\n",
    "for i in range(50):\n",
    "    diff.append(mean(simulate(mu, sigma, alpha, p , n , y0, prop_sig_x, prop_sig_y, x0, epsilon, m)[1]))\n",
    "\n",
    "print(diff)\n",
    "plt.plot(diff)\n",
    "plt.show()\n"
   ]
  },
  {
   "cell_type": "code",
   "execution_count": null,
   "id": "17ba9586",
   "metadata": {},
   "outputs": [],
   "source": [
    "x0 = -20\n",
    "y0 = -20\n",
    "\n",
    "n=100000\n",
    "diff = []\n",
    "for i in range(50):\n",
    "    diff.append(mean(simulate(mu, sigma, alpha, p , n , y0, prop_sig_x, prop_sig_y, x0, epsilon, m)[1]))\n",
    "\n",
    "print(diff)\n",
    "plt.plot(diff)\n",
    "plt.show()"
   ]
  },
  {
   "attachments": {},
   "cell_type": "markdown",
   "id": "c92576d5",
   "metadata": {},
   "source": [
    "## Error Plot"
   ]
  },
  {
   "attachments": {},
   "cell_type": "markdown",
   "id": "d3751017",
   "metadata": {},
   "source": [
    "### Error Plot (Single Case Test)"
   ]
  },
  {
   "cell_type": "code",
   "execution_count": null,
   "id": "b4e5086c",
   "metadata": {},
   "outputs": [],
   "source": [
    "# single case plot\n",
    "for i in range (5):\n",
    "    error_out = simulate(mu, sigma, alpha, p , n , y0, prop_sig_x, prop_sig_y, x0, epsilon, m)[1]\n",
    "    plt.plot(error_out)\n",
    "    plt.show()"
   ]
  },
  {
   "attachments": {},
   "cell_type": "markdown",
   "id": "fe167643",
   "metadata": {},
   "source": [
    "### Plot for mean error"
   ]
  },
  {
   "cell_type": "code",
   "execution_count": null,
   "id": "5ba95cd6",
   "metadata": {},
   "outputs": [],
   "source": [
    "import pandas as pd\n",
    "\n",
    "errors = []\n",
    "for i in range(5):\n",
    "    errors.append(simulate(mu, sigma, alpha, p , n , y0, prop_sig_x, prop_sig_y, x0, epsilon, m)[1])\n",
    "\n",
    "errors = pd.DataFrame(errors)\n",
    "mean_error = errors.mean(axis = 0)"
   ]
  },
  {
   "cell_type": "code",
   "execution_count": null,
   "id": "35076d2b",
   "metadata": {},
   "outputs": [],
   "source": [
    "plt.plot(mean_error)\n",
    "plt.title('Mean Error')\n",
    "plt.show()"
   ]
  },
  {
   "attachments": {},
   "cell_type": "markdown",
   "id": "a19aa35a",
   "metadata": {},
   "source": [
    "### Explore the initial position"
   ]
  },
  {
   "cell_type": "code",
   "execution_count": null,
   "id": "0eb27bb8",
   "metadata": {},
   "outputs": [],
   "source": [
    "x0 = 0\n",
    "y0 = 0\n",
    "\n",
    "import pandas as pd\n",
    "\n",
    "errors = []\n",
    "for i in range(5):\n",
    "    errors.append(simulate(mu, sigma, alpha, p , n , y0, prop_sig_x, prop_sig_y, x0, epsilon, m)[1])\n",
    "\n",
    "errors = pd.DataFrame(errors)\n",
    "mean_error = errors.mean(axis = 0)\n",
    "\n",
    "plt.plot(mean_error)\n",
    "plt.title('Mean Error Parallel')\n",
    "plt.show()"
   ]
  },
  {
   "cell_type": "code",
   "execution_count": null,
   "id": "1f24e79d",
   "metadata": {},
   "outputs": [],
   "source": [
    "x0 = 17.5\n",
    "y0 = 17.5\n",
    "\n",
    "import pandas as pd\n",
    "\n",
    "errors = []\n",
    "for i in range(5):\n",
    "    errors.append(simulate(mu, sigma, alpha, p, n, y0, prop_sig_x, prop_sig_y, x0, epsilon, m)[1])\n",
    "\n",
    "errors = pd.DataFrame(errors)\n",
    "mean_error = errors.mean(axis = 0)\n",
    "\n",
    "plt.plot(mean_error)\n",
    "plt.title('Mean Error Parallel')\n",
    "plt.show()"
   ]
  },
  {
   "cell_type": "code",
   "execution_count": null,
   "id": "64b5a674",
   "metadata": {},
   "outputs": [],
   "source": [
    "x0 = 50\n",
    "y0 = 50\n",
    "\n",
    "import pandas as pd\n",
    "\n",
    "errors = []\n",
    "for i in range(5):\n",
    "    errors.append(simulate(mu, sigma, alpha, p, n, y0, prop_sig_x, prop_sig_y, x0, epsilon, m)[1])\n",
    "\n",
    "errors = pd.DataFrame(errors)\n",
    "mean_error = errors.mean(axis = 0)\n",
    "\n",
    "plt.plot(mean_error)\n",
    "plt.title('Mean Error Parallel')\n",
    "plt.show()"
   ]
  },
  {
   "cell_type": "code",
   "execution_count": null,
   "id": "165ca844",
   "metadata": {},
   "outputs": [],
   "source": [
    "x0 = -20\n",
    "y0 = -20\n",
    "\n",
    "import pandas as pd\n",
    "\n",
    "errors = []\n",
    "for i in range(5):\n",
    "    errors.append(simulate(mu, sigma, alpha, p, n, y0, prop_sig_x, prop_sig_y, x0, epsilon, m)[1])\n",
    "\n",
    "errors = pd.DataFrame(errors)\n",
    "mean_error = errors.mean(axis = 0)\n",
    "\n",
    "plt.plot(mean_error)\n",
    "plt.title('Mean Error Parallel')\n",
    "plt.show()"
   ]
  },
  {
   "attachments": {},
   "cell_type": "markdown",
   "id": "e9177317",
   "metadata": {},
   "source": [
    "## Test"
   ]
  },
  {
   "attachments": {},
   "cell_type": "markdown",
   "id": "69fe7d2e",
   "metadata": {},
   "source": [
    "### Calculate the error (Test)"
   ]
  },
  {
   "cell_type": "code",
   "execution_count": null,
   "id": "cabea295",
   "metadata": {},
   "outputs": [],
   "source": [
    "def est_error(x_list, mu, sigma, alpha, n):\n",
    "    \n",
    "    x_min = min(x_list)\n",
    "    x_max = max(x_list)\n",
    "    interval = x_max - x_min\n",
    "    d_interval = interval/n\n",
    "    error = 0\n",
    "    \n",
    "    for i in range(n):\n",
    "        count = 0\n",
    "        \n",
    "        for j in x_list:\n",
    "            if (x_min <= j) & (j<= (x_min+d_interval)):\n",
    "                count += 1\n",
    "                \n",
    "        real = count/len(x_list)\n",
    "        mid_point = (2*x_min + d_interval)/2\n",
    "        val = f_pi(mid_point, mu, sigma, alpha)\n",
    "        x_min = x_min + d_interval\n",
    "        error += abs(real-val)\n",
    "    \n",
    "    return error"
   ]
  },
  {
   "cell_type": "code",
   "execution_count": null,
   "id": "81d2fa3b",
   "metadata": {},
   "outputs": [],
   "source": [
    "est_error(x_out.flatten(), mu, sigma, alpha, 100)"
   ]
  },
  {
   "cell_type": "code",
   "execution_count": null,
   "id": "999336e5",
   "metadata": {},
   "outputs": [],
   "source": [
    "x_errors = []\n",
    "\n",
    "for i in range(20):\n",
    "    result = simulate(mu, sigma, alpha, p, n, y0, prop_sig_x, prop_sig_y, x0, epsilon)\n",
    "    error = est_error(result.flatten(), mu, sigma, alpha, 100)\n",
    "    x_errors.append(error)\n",
    "    \n",
    "error = mean(x_errors)\n",
    "error"
   ]
  }
 ],
 "metadata": {
  "kernelspec": {
   "display_name": "Python 3",
   "language": "python",
   "name": "python3"
  },
  "language_info": {
   "codemirror_mode": {
    "name": "ipython",
    "version": 3
   },
   "file_extension": ".py",
   "mimetype": "text/x-python",
   "name": "python",
   "nbconvert_exporter": "python",
   "pygments_lexer": "ipython3",
   "version": "3.8.13"
  },
  "vscode": {
   "interpreter": {
    "hash": "40d3a090f54c6569ab1632332b64b2c03c39dcf918b08424e98f38b5ae0af88f"
   }
  }
 },
 "nbformat": 4,
 "nbformat_minor": 5
}
