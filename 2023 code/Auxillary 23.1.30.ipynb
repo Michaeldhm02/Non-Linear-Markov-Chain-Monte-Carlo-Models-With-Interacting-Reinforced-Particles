{
 "cells": [
  {
   "cell_type": "code",
   "execution_count": 1,
   "id": "c2d03435",
   "metadata": {},
   "outputs": [],
   "source": [
    "import numpy as np\n",
    "import random as rm\n",
    "import pandas as pd\n",
    "from random import seed\n",
    "from random import random\n",
    "import matplotlib.pyplot as plt\n",
    "from pylab import *\n",
    "from scipy.optimize import curve_fit\n",
    "from scipy.stats import bernoulli, binom, norm\n",
    "from scipy import integrate\n",
    "import time"
   ]
  },
  {
   "cell_type": "code",
   "execution_count": 2,
   "id": "1a690911",
   "metadata": {},
   "outputs": [],
   "source": [
    "def f_pi(x, mu, sigma, alpha):\n",
    "    val = 0\n",
    "    for i in range(len(mu)):\n",
    "        val += alpha[i]*norm.pdf(x, mu[i], sigma[i])\n",
    "    return val\n",
    "    \n",
    "def f_eta_unnormalized(x, mu, sigma, alpha, p):\n",
    "    return f_pi(x, mu, sigma, alpha)**p\n",
    "\n",
    "def compute_c(mu, sigma, alpha, p):\n",
    "    def f_eta_unnormalized_temp(x):\n",
    "        return f_eta_unnormalized(x, mu, sigma, alpha, p)\n",
    "    c = integrate.quad(f_eta_unnormalized_temp, -np.inf, np.inf)[0]\n",
    "    return c\n",
    "\n",
    "# c = compute_c(mu, sigma, alpha, p)\n",
    "    \n",
    "def f_eta(x, mu, sigma, alpha, p, c):\n",
    "    return f_eta_unnormalized(x, mu, sigma, alpha, p)/c\n",
    "\n",
    "def g(x, mu, sigma, alpha, p, c):\n",
    "    return(f_pi(x, mu, sigma, alpha)/f_eta(x, mu, sigma, alpha, p, c))"
   ]
  },
  {
   "cell_type": "code",
   "execution_count": 3,
   "id": "842685ff",
   "metadata": {},
   "outputs": [],
   "source": [
    "def p_kernel(y0, prop_sig_y, n, mu, sigma, alpha, p):\n",
    "        count = 0\n",
    "        Yn = y0\n",
    "        estimator = np.array([y0])\n",
    "        while count < n:\n",
    "            y = np.random.normal(Yn, prop_sig_y)\n",
    "            u = np.random.uniform(0,1)\n",
    "            a = min(f_eta_unnormalized(y, mu, sigma, alpha, p)/f_eta_unnormalized(Yn, mu, sigma, alpha, p), 1)\n",
    "            if u <= a:\n",
    "                estimator = np.append(estimator, y)\n",
    "                Yn = y\n",
    "                count += 1\n",
    "        return estimator"
   ]
  },
  {
   "cell_type": "code",
   "execution_count": 4,
   "id": "cc00e904",
   "metadata": {},
   "outputs": [],
   "source": [
    "def k_kernel_nsteps(z0, prop_sig_z, n, mu, sigma, alpha):\n",
    "        count = 0\n",
    "        Zn = z0\n",
    "        estimator = np.array([z0])\n",
    "        while count < n:\n",
    "            z = np.random.normal(Zn, prop_sig_z)\n",
    "            u = np.random.uniform(0,1)\n",
    "            a = min(f_pi(z, mu, sigma, alpha)/f_pi(Zn, mu, sigma, alpha), 1)\n",
    "            if u <= a:\n",
    "                estimator = np.append(estimator, z)\n",
    "                Zn = z\n",
    "                count += 1\n",
    "        return estimator"
   ]
  },
  {
   "cell_type": "code",
   "execution_count": 5,
   "id": "3b89d70b",
   "metadata": {},
   "outputs": [],
   "source": [
    "def k_kernel(Xn, prop_sig_x, mu, sigma, alpha):\n",
    "    Xnew = k_kernel_nsteps(Xn, prop_sig_x, 1, mu, sigma, alpha)[-1]\n",
    "    return(Xnew)"
   ]
  },
  {
   "cell_type": "code",
   "execution_count": 6,
   "id": "5d73325b",
   "metadata": {},
   "outputs": [],
   "source": [
    "def sum_g(sum_old, yn, mu, sigma, alpha, p, c):\n",
    "    return sum_old + g(yn, mu, sigma, alpha, p, c)\n",
    "\n",
    "def prob_list(y, sum_old, prob_list_old, mu, sigma, alpha, p, c):\n",
    "        a = sum_old/sum_g(sum_old, y, mu, sigma, alpha, p, c)\n",
    "        prob_list = prob_list_old*a\n",
    "        prob_list = np.append(prob_list, g(y, mu, sigma, alpha, p, c)/sum_g(sum_old, y, mu, sigma, alpha, p, c))\n",
    "        return a"
   ]
  },
  {
   "cell_type": "code",
   "execution_count": 18,
   "id": "df24d0fc",
   "metadata": {},
   "outputs": [
    {
     "name": "stderr",
     "output_type": "stream",
     "text": [
      "<>:6: SyntaxWarning: list indices must be integers or slices, not tuple; perhaps you missed a comma?\n",
      "<>:6: SyntaxWarning: list indices must be integers or slices, not tuple; perhaps you missed a comma?\n",
      "/var/folders/b9/hjwyjp4x1k56ymrfvjwxfkyc0000gn/T/ipykernel_65176/329229180.py:6: SyntaxWarning: list indices must be integers or slices, not tuple; perhaps you missed a comma?\n",
      "  b= np.array([[2,3][1,4]])\n"
     ]
    },
    {
     "ename": "TypeError",
     "evalue": "list indices must be integers or slices, not tuple",
     "output_type": "error",
     "traceback": [
      "\u001b[0;31m---------------------------------------------------------------------------\u001b[0m",
      "\u001b[0;31mTypeError\u001b[0m                                 Traceback (most recent call last)",
      "\u001b[0;32m/var/folders/b9/hjwyjp4x1k56ymrfvjwxfkyc0000gn/T/ipykernel_65176/329229180.py\u001b[0m in \u001b[0;36m<module>\u001b[0;34m\u001b[0m\n\u001b[1;32m      4\u001b[0m \u001b[0;34m\u001b[0m\u001b[0m\n\u001b[1;32m      5\u001b[0m \u001b[0;34m\u001b[0m\u001b[0m\n\u001b[0;32m----> 6\u001b[0;31m \u001b[0mb\u001b[0m\u001b[0;34m=\u001b[0m \u001b[0mnp\u001b[0m\u001b[0;34m.\u001b[0m\u001b[0marray\u001b[0m\u001b[0;34m(\u001b[0m\u001b[0;34m[\u001b[0m\u001b[0;34m[\u001b[0m\u001b[0;36m2\u001b[0m\u001b[0;34m,\u001b[0m\u001b[0;36m3\u001b[0m\u001b[0;34m]\u001b[0m\u001b[0;34m[\u001b[0m\u001b[0;36m1\u001b[0m\u001b[0;34m,\u001b[0m\u001b[0;36m4\u001b[0m\u001b[0;34m]\u001b[0m\u001b[0;34m]\u001b[0m\u001b[0;34m)\u001b[0m\u001b[0;34m\u001b[0m\u001b[0;34m\u001b[0m\u001b[0m\n\u001b[0m\u001b[1;32m      7\u001b[0m \u001b[0mprint\u001b[0m\u001b[0;34m(\u001b[0m\u001b[0mb\u001b[0m\u001b[0;34m)\u001b[0m\u001b[0;34m\u001b[0m\u001b[0;34m\u001b[0m\u001b[0m\n",
      "\u001b[0;31mTypeError\u001b[0m: list indices must be integers or slices, not tuple"
     ]
    }
   ],
   "source": [
    "a = prob_list(np.array([[1,2],[2,3],[3,4]]), 0.75, \n",
    "              np.array([[0.1,0.1],[0.1,0.1],[0.1,0.5]]), mu, sigma, alpha, p, 1)\n",
    "a"
   ]
  },
  {
   "cell_type": "code",
   "execution_count": 22,
   "id": "c031d2ef",
   "metadata": {},
   "outputs": [
    {
     "name": "stdout",
     "output_type": "stream",
     "text": [
      "[[1 2]\n",
      " [3 4]]\n",
      "[1 2 3 4 2 3]\n"
     ]
    }
   ],
   "source": [
    "b = np.array([[1, 2], [3, 4]])\n",
    "print(b)\n",
    "c = np.append(b,[2,3])\n",
    "print(c)"
   ]
  },
  {
   "cell_type": "code",
   "execution_count": 14,
   "id": "bf6e1a07",
   "metadata": {},
   "outputs": [
    {
     "name": "stdout",
     "output_type": "stream",
     "text": [
      "3\n"
     ]
    }
   ],
   "source": [
    "print(sum(3))"
   ]
  },
  {
   "cell_type": "code",
   "execution_count": 8,
   "id": "ed476c15",
   "metadata": {},
   "outputs": [],
   "source": [
    "def simulate(mu, sigma, alpha, p, n, y0_list, prop_sig_x, prop_sig_y, x0_list, eps, N):\n",
    "    \n",
    "    c = compute_c(mu, sigma, alpha, p)\n",
    "    \n",
    "    X_matrix = np.empty(shape=(N,0),dtype='float')\n",
    "    Y_matrix = np.empty(shape=(N,0),dtype='float')\n",
    "    Y_matrix = np.insert(Y_matrix,0,y0_list,axis=1)\n",
    "    X_matrix = np.insert(X_matrix,0,x0_list,axis=1)\n",
    "    \n",
    "    sum_Gs = 0\n",
    "    Prob_matrix = np.empty(shape=(N,0),dtype='float')\n",
    "    Prob_list = []\n",
    "        \n",
    "    for i in (y0_list):\n",
    "        sum_Gs += g(i, mu, sigma, alpha, p, c)\n",
    "            \n",
    "    for i in y0_list:\n",
    "        Prob_list.append(g(i, mu, sigma, alpha, p, c)/sum_Gs)\n",
    "    Prob_matrix = np.insert(Prob_matrix, 0, Prob_list, axis=1)\n",
    "        \n",
    "    for i in range(n):\n",
    "        sum_g = 0\n",
    "        y_list = []\n",
    "        x_list = []\n",
    "        for j in range(N):\n",
    "            y_list.append(p_kernel(Y_matrix[j][-1], prop_sig_y, n, mu, sigma, alpha, p)[-1])\n",
    "            sum_g += g(y_list[j], mu, sigma, alpha, p, c)\n",
    "            \n",
    "        # Prob_matrix_old = np.insert(Prob_matrix, len(Prob_matrix[0]), np.zeros(N), axis=1)\n",
    "        Prob_matrix = prob_list(Y_matrix[:,i], sum_Gs, Prob_matrix, mu, sigma, alpha, p, c)\n",
    "        Y_matrix = np.insert(Y_matrix, len(Y_matrix[0]), y_list, axis=1)\n",
    "        Y_matrix_flatten = Y_matrix.flatten()\n",
    "        Prob_matrix_flatten = Prob_matrix.flatten()\n",
    "        sum_Gs += sum_g\n",
    "        '''    \n",
    "        for j in range(N):\n",
    "            b = bernoulli(epsilon).rvs(1)\n",
    "            if b == 0:\n",
    "                x_list.append(k_kernel(X_matrix[j][-1], prop_sig_x, mu, sigma, alpha))\n",
    "            if b == 1:\n",
    "                x_list.append(np.random.choice(Y_matrix_flatten, p = Prob_matrix_flatten))\n",
    "            \n",
    "        X_matrix = np.insert(X_matrix, len(X_matrix[0])-1, x_list, axis=1)\n",
    "        \n",
    "    X_list = X_matrix.flatten()\n",
    "    '''\n",
    "        \n",
    "    return len(Y_matrix_flatten), len(Prob_matrix_flatten)"
   ]
  },
  {
   "cell_type": "code",
   "execution_count": 12,
   "id": "e14de3a6",
   "metadata": {},
   "outputs": [],
   "source": [
    "epsilon = 0.01\n",
    "y0 = [1,2,3,4]\n",
    "x0 = [6,7,8,8]\n",
    "n = 3\n",
    "prop_sig_x = 2\n",
    "prop_sig_y = 2\n",
    "mu = np.array([0, 3])\n",
    "sigma = np.array([1, 4])\n",
    "alpha = np.array([0.3, 0.7])\n",
    "N = len(x0)\n",
    "p = 0.4\n",
    "\n",
    "x_out = simulate(mu, sigma, alpha, p, n, y0, prop_sig_x, prop_sig_y, x0, epsilon, N)"
   ]
  },
  {
   "cell_type": "code",
   "execution_count": 10,
   "id": "d7f86fab",
   "metadata": {},
   "outputs": [
    {
     "name": "stdout",
     "output_type": "stream",
     "text": [
      "16 4\n"
     ]
    }
   ],
   "source": [
    "print(x_out[0], x_out[1])"
   ]
  },
  {
   "cell_type": "code",
   "execution_count": 11,
   "id": "e0cc80de",
   "metadata": {},
   "outputs": [
    {
     "data": {
      "image/png": "[encoded data removed]",
      "text/plain": [
       "<Figure size 640x480 with 1 Axes>"
      ]
     },
     "metadata": {},
     "output_type": "display_data"
    }
   ],
   "source": [
    "f_pi_plot = lambda z: f_pi(z, mu, sigma, alpha)\n",
    "\n",
    "plt.hist(x_out, density = True, bins = 100)\n",
    "\n",
    "t = np.linspace(-20,25,1000)\n",
    "vals = f_pi_plot(t)\n",
    "\n",
    "plt.plot(t,vals, 'r')\n",
    "plt.show()"
   ]
  },
  {
   "cell_type": "code",
   "execution_count": 90,
   "id": "54f33f4d",
   "metadata": {},
   "outputs": [],
   "source": [
    "y0 = [1,2,3,4]\n",
    "Y_matrix = np.empty(shape=(N,0),dtype='float')\n",
    "Y_matrix = np.insert(Y_matrix,0,y0,axis=1)"
   ]
  },
  {
   "cell_type": "code",
   "execution_count": 91,
   "id": "2d87a28b",
   "metadata": {},
   "outputs": [
    {
     "data": {
      "text/plain": [
       "array([[1.],\n",
       "       [2.],\n",
       "       [3.],\n",
       "       [4.]])"
      ]
     },
     "execution_count": 91,
     "metadata": {},
     "output_type": "execute_result"
    }
   ],
   "source": [
    "Y_matrix"
   ]
  },
  {
   "cell_type": "code",
   "execution_count": 94,
   "id": "b917bb68",
   "metadata": {},
   "outputs": [
    {
     "data": {
      "text/plain": [
       "array([[0.],\n",
       "       [0.],\n",
       "       [0.],\n",
       "       [0.]])"
      ]
     },
     "execution_count": 94,
     "metadata": {},
     "output_type": "execute_result"
    }
   ],
   "source": [
    "Prob_matrix = np.empty(shape=(N,0),dtype='float')\n",
    "Prob_matrix_old = np.insert(Prob_matrix, len(Prob_matrix[0]), np.zeros(N), axis=1)\n",
    "Prob_matrix_old"
   ]
  },
  {
   "cell_type": "code",
   "execution_count": 93,
   "id": "1191df9e",
   "metadata": {},
   "outputs": [
    {
     "data": {
      "text/plain": [
       "array([[1., 0.],\n",
       "       [2., 0.],\n",
       "       [3., 0.],\n",
       "       [4., 0.]])"
      ]
     },
     "execution_count": 93,
     "metadata": {},
     "output_type": "execute_result"
    }
   ],
   "source": [
    "Prob_matrix_old = np.insert(Prob_matrix, len(Prob_matrix[0]), np.zeros(N), axis=1)\n",
    "Prob_matrix_old"
   ]
  },
  {
   "cell_type": "code",
   "execution_count": null,
   "id": "73296cc9",
   "metadata": {},
   "outputs": [],
   "source": []
  }
 ],
 "metadata": {
  "kernelspec": {
   "display_name": "base",
   "language": "python",
   "name": "python3"
  },
  "language_info": {
   "codemirror_mode": {
    "name": "ipython",
    "version": 3
   },
   "file_extension": ".py",
   "mimetype": "text/x-python",
   "name": "python",
   "nbconvert_exporter": "python",
   "pygments_lexer": "ipython3",
   "version": "3.8.13"
  },
  "vscode": {
   "interpreter": {
    "hash": "40d3a090f54c6569ab1632332b64b2c03c39dcf918b08424e98f38b5ae0af88f"
   }
  }
 },
 "nbformat": 4,
 "nbformat_minor": 5
}
