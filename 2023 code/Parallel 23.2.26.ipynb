{
 "cells": [
  {
   "cell_type": "markdown",
   "id": "098fbc75",
   "metadata": {},
   "source": [
    "### Import all packages"
   ]
  },
  {
   "cell_type": "code",
   "execution_count": 1,
   "id": "9b7a0222",
   "metadata": {},
   "outputs": [],
   "source": [
    "import numpy as np\n",
    "import random as rm\n",
    "import pandas as pd\n",
    "from random import seed\n",
    "from random import random\n",
    "import matplotlib.pyplot as plt\n",
    "from pylab import *\n",
    "from scipy.optimize import curve_fit\n",
    "from scipy.stats import bernoulli, binom, norm\n",
    "from scipy import integrate\n",
    "import time"
   ]
  },
  {
   "cell_type": "markdown",
   "id": "a22593a4",
   "metadata": {},
   "source": [
    "### Basic functions"
   ]
  },
  {
   "cell_type": "code",
   "execution_count": 2,
   "id": "1afff2c9",
   "metadata": {},
   "outputs": [],
   "source": [
    "def f_pi(x, mu, sigma, alpha):\n",
    "    val = 0\n",
    "    for i in range(len(mu)):\n",
    "        val += alpha[i]*norm.pdf(x, mu[i], sigma[i])\n",
    "    return val\n",
    "    \n",
    "def f_eta_unnormalized(x, mu, sigma, alpha, p):\n",
    "    return f_pi(x, mu, sigma, alpha)**p\n",
    "\n",
    "def compute_c(mu, sigma, alpha, p):\n",
    "    def f_eta_unnormalized_temp(x):\n",
    "        return f_eta_unnormalized(x, mu, sigma, alpha, p)\n",
    "    c = integrate.quad(f_eta_unnormalized_temp, -np.inf, np.inf)[0]\n",
    "    return c\n",
    "\n",
    "# c = compute_c(mu, sigma, alpha, p)\n",
    "    \n",
    "def f_eta(x, mu, sigma, alpha, p, c):\n",
    "    return f_eta_unnormalized(x, mu, sigma, alpha, p)/c\n",
    "\n",
    "def g(x, mu, sigma, alpha, p, c):\n",
    "    return(f_pi(x, mu, sigma, alpha)/f_eta(x, mu, sigma, alpha, p, c))"
   ]
  },
  {
   "cell_type": "markdown",
   "id": "c81d7083",
   "metadata": {},
   "source": [
    "### P kernel and K kernel"
   ]
  },
  {
   "cell_type": "code",
   "execution_count": 3,
   "id": "fd29bade",
   "metadata": {},
   "outputs": [],
   "source": [
    "def p_kernel(y0, prop_sig_y, n, mu, sigma, alpha, p):\n",
    "        count = 0\n",
    "        Yn = y0\n",
    "        estimator = np.array([y0])\n",
    "        while count < n:\n",
    "            y = np.random.normal(Yn, prop_sig_y)\n",
    "            u = np.random.uniform(0,1)\n",
    "            a = min(f_eta_unnormalized(y, mu, sigma, alpha, p)/f_eta_unnormalized(Yn, mu, sigma, alpha, p), 1)\n",
    "            if u <= a:\n",
    "                estimator = np.append(estimator, y)\n",
    "                Yn = y\n",
    "                count += 1\n",
    "        return estimator"
   ]
  },
  {
   "cell_type": "code",
   "execution_count": 4,
   "id": "2d1a12a1",
   "metadata": {},
   "outputs": [],
   "source": [
    "def k_kernel_nsteps(z0, prop_sig_z, n, mu, sigma, alpha):\n",
    "        count = 0\n",
    "        Zn = z0\n",
    "        estimator = np.array([z0])\n",
    "        while count < n:\n",
    "            z = np.random.normal(Zn, prop_sig_z)\n",
    "            u = np.random.uniform(0,1)\n",
    "            a = min(f_pi(z, mu, sigma, alpha)/f_pi(Zn, mu, sigma, alpha), 1)\n",
    "            if u <= a:\n",
    "                estimator = np.append(estimator, z)\n",
    "                Zn = z\n",
    "                count += 1\n",
    "        return estimator"
   ]
  },
  {
   "cell_type": "code",
   "execution_count": 5,
   "id": "b2dbb9cd",
   "metadata": {},
   "outputs": [],
   "source": [
    "def k_kernel(Xn, prop_sig_x, mu, sigma, alpha):\n",
    "    Xnew = k_kernel_nsteps(Xn, prop_sig_x, 1, mu, sigma, alpha)[-1]\n",
    "    return(Xnew)"
   ]
  },
  {
   "cell_type": "markdown",
   "id": "71f96cf5",
   "metadata": {},
   "source": [
    "### Update Y function"
   ]
  },
  {
   "cell_type": "code",
   "execution_count": 6,
   "id": "3261eae8",
   "metadata": {},
   "outputs": [],
   "source": [
    "def sum_g(sum_old, yn, mu, sigma, alpha, p, c):\n",
    "    return sum_old + sum(g(yn, mu, sigma, alpha, p, c))\n",
    "\n",
    "def prob_list(y, sum_old, prob_list_old, mu, sigma, alpha, p, c):\n",
    "        a = sum_old/sum_g(sum_old, y, mu, sigma, alpha, p, c)\n",
    "        prob_list = prob_list_old*a\n",
    "        prob_list = np.append(prob_list, g(y, mu, sigma, alpha, p, c)/sum_g(sum_old, y, mu, sigma, alpha, p, c))\n",
    "        return prob_list"
   ]
  },
  {
   "cell_type": "markdown",
   "id": "23c5270a",
   "metadata": {},
   "source": [
    "### Simulate function"
   ]
  },
  {
   "cell_type": "code",
   "execution_count": 7,
   "id": "565116df",
   "metadata": {},
   "outputs": [],
   "source": [
    "def est_error(x_list, mu, sigma, alpha, m):\n",
    "    \n",
    "    x_min = min(x_list)\n",
    "    x_max = max(x_list)\n",
    "    interval = x_max - x_min\n",
    "    d_interval = interval/m\n",
    "    error = 0\n",
    "    \n",
    "    for i in range(m):\n",
    "        count = 0\n",
    "        \n",
    "        for j in x_list:\n",
    "            if (x_min <= j) & (j<= (x_min+d_interval)):\n",
    "                count += 1\n",
    "                \n",
    "        real = count/len(x_list)\n",
    "        mid_point = (2*x_min + d_interval)/2\n",
    "        val = f_pi(mid_point, mu, sigma, alpha)\n",
    "        x_min = x_min + d_interval\n",
    "        error += abs(real-val)\n",
    "    \n",
    "    return error"
   ]
  },
  {
   "cell_type": "code",
   "execution_count": 8,
   "id": "2aa6872b",
   "metadata": {},
   "outputs": [],
   "source": [
    "def simulate(mu, sigma, alpha, p, n, y0_list, prop_sig_x, prop_sig_y, x0_list, eps, N, m):\n",
    "    \n",
    "    c = compute_c(mu, sigma, alpha, p)\n",
    "    \n",
    "    X_matrix = np.empty((0,n),int)\n",
    "    Y_matrix = np.empty((0,n),int)\n",
    "    errors = []\n",
    "    diff = []\n",
    "    \n",
    "    for i in range(N):\n",
    "        sum_gs = g(y0_list[i], mu, sigma, alpha, p, c)\n",
    "        X_list = [x0_list[i]]\n",
    "        Y_list = p_kernel(y0_list[i], prop_sig_y, n, mu, sigma, alpha, p)\n",
    "        prob_list_Ys = np.array([1])\n",
    "        \n",
    "        for k in range(1, n):\n",
    "            prob_list_Ys = prob_list(Y_list[k], sum_gs, prob_list_Ys, mu, sigma, alpha, p, c)\n",
    "            sum_gs = sum_g(sum_gs, Y_list[k], mu, sigma, alpha, p, c)\n",
    "            j = bernoulli(eps).rvs(1)\n",
    "            \n",
    "            if j == 0:\n",
    "                X_list.append(k_kernel(X_list[k-1], prop_sig_x, mu, sigma, alpha)) \n",
    "            else:\n",
    "                X_list.append(np.random.choice(Y_list[:k+1], p = prob_list_Ys))\n",
    "                                    \n",
    "        X_matrix = np.append(X_matrix, [X_list], axis=0)\n",
    "        #x0_list[i] = X_matrix[i][-1]\n",
    "    \n",
    "    '''\n",
    "    for i in range(1,int(n/40)):\n",
    "        # print(X_matrix[:,:int(i*10)])\n",
    "        error = est_error(X_matrix[:,:int(i*40)].flatten(), mu, sigma, alpha, m)\n",
    "        errors.append(error)\n",
    "    '''\n",
    "    \n",
    "    X_list = X_matrix.flatten()\n",
    "    \n",
    "    for i in range(1,50):\n",
    "        # print(X_matrix[:,:int(i*10)])\n",
    "        dif = sum(X_matrix[:,:int(i*n/50)].flatten())/X_matrix[:,:int(i*n/50)].size\n",
    "        #-mu[0]*alpha[0]+mu[1]*alpha[1]\n",
    "        diff.append(dif)\n",
    "      \n",
    "        \n",
    "    return X_list, diff\n",
    "        \n",
    "    return X_list, errors"
   ]
  },
  {
   "cell_type": "markdown",
   "id": "0c0e7f80",
   "metadata": {},
   "source": [
    "### Test Example"
   ]
  },
  {
   "cell_type": "code",
   "execution_count": 13,
   "id": "d0df0a84",
   "metadata": {},
   "outputs": [
    {
     "data": {
      "text/plain": [
       "10.138339886658152"
      ]
     },
     "execution_count": 13,
     "metadata": {},
     "output_type": "execute_result"
    }
   ],
   "source": [
    "epsilon = 0.01\n",
    "y0 = [15, -5, 12, 1, -2]\n",
    "x0 = [10, 13, -4, -2, 3]\n",
    "n = 2000\n",
    "prop_sig_x = 2\n",
    "prop_sig_y = 2\n",
    "mu = np.array([0, 17.5])\n",
    "sigma = np.array([1,4])\n",
    "alpha = np.array([0.3, 0.7])\n",
    "N = len(x0)\n",
    "p = 0.4\n",
    "m = int(n/10)\n",
    "\n",
    "x_out = simulate(mu, sigma, alpha, p, n, y0, prop_sig_x, prop_sig_y, x0, epsilon, N, m)[0]\n",
    "diff_list = simulate(mu, sigma, alpha, p, n, y0, prop_sig_x, prop_sig_y, x0, epsilon, N, m)[1]\n",
    "mean(diff_list)"
   ]
  },
  {
   "cell_type": "code",
   "execution_count": 12,
   "id": "60d6390e",
   "metadata": {},
   "outputs": [
    {
     "data": {
      "image/png": "[encoded data removed]",
      "text/plain": [
       "<Figure size 640x480 with 1 Axes>"
      ]
     },
     "metadata": {},
     "output_type": "display_data"
    }
   ],
   "source": [
    "f_pi_plot = lambda z: f_pi(z, mu, sigma, alpha)\n",
    "plt.hist(x_out, density = True, bins = 100)\n",
    "t = np.linspace(-20,25,1000)\n",
    "vals = f_pi_plot(t)\n",
    "\n",
    "plt.plot(t,vals, 'r')\n",
    "plt.show()"
   ]
  },
  {
   "attachments": {},
   "cell_type": "markdown",
   "id": "91720925",
   "metadata": {},
   "source": [
    "## Explore Initial Position for difference of expected and theoretical mean"
   ]
  },
  {
   "cell_type": "code",
   "execution_count": null,
   "id": "f57aa617",
   "metadata": {},
   "outputs": [],
   "source": [
    "x0 = [0,0,0,17.5,17.5]\n",
    "y0 = [0,0,0,17.5,17.5]\n",
    "\n",
    "\n",
    "n=20000\n",
    "diff = []\n",
    "for i in range(50):\n",
    "    diff.append(mean(simulate(mu, sigma, alpha, p, n, y0, prop_sig_x, prop_sig_y, x0, epsilon, N, m)[1]))\n",
    "\n",
    "print(diff)\n",
    "plt.plot(diff)\n",
    "plt.show()"
   ]
  },
  {
   "cell_type": "code",
   "execution_count": null,
   "id": "d1dec69a",
   "metadata": {},
   "outputs": [],
   "source": [
    "x0 = [-20, -50, 50, 70, -15]\n",
    "y0 = [-20, -50, 50, 70, -15]\n",
    "\n",
    "\n",
    "n=20000\n",
    "diff = []\n",
    "for i in range(50):\n",
    "    diff.append(mean(simulate(mu, sigma, alpha, p, n, y0, prop_sig_x, prop_sig_y, x0, epsilon, N, m)[1]))\n",
    "\n",
    "print(diff)\n",
    "plt.plot(diff)\n",
    "plt.show()"
   ]
  },
  {
   "cell_type": "code",
   "execution_count": null,
   "id": "03384367",
   "metadata": {},
   "outputs": [],
   "source": [
    "x0 = [0,0,0,0,0]\n",
    "y0 = [0,0,0,0,0]\n",
    "\n",
    "n=20000\n",
    "diff = []\n",
    "for i in range(50):\n",
    "    diff.append(mean(simulate(mu, sigma, alpha, p, n, y0, prop_sig_x, prop_sig_y, x0, epsilon, N, m)[1]))\n",
    "\n",
    "print(diff)\n",
    "plt.plot(diff)\n",
    "plt.show()"
   ]
  },
  {
   "attachments": {},
   "cell_type": "markdown",
   "id": "f3a63865",
   "metadata": {},
   "source": [
    "## Error Plot"
   ]
  },
  {
   "attachments": {},
   "cell_type": "markdown",
   "id": "e95fd3c0",
   "metadata": {},
   "source": [
    "### Error Plot (Single Case Test)"
   ]
  },
  {
   "cell_type": "code",
   "execution_count": null,
   "id": "e6bea192",
   "metadata": {},
   "outputs": [],
   "source": [
    "# single case plot\n",
    "for i in range (5):\n",
    "    error_out = simulate(mu, sigma, alpha, p, n, y0, prop_sig_x, prop_sig_y, x0, epsilon, N, m)[1]\n",
    "    plt.plot(error_out)\n",
    "    plt.show()"
   ]
  },
  {
   "attachments": {},
   "cell_type": "markdown",
   "id": "418c3be6",
   "metadata": {},
   "source": [
    "### Plot for mean error"
   ]
  },
  {
   "cell_type": "code",
   "execution_count": null,
   "id": "7ac7523d",
   "metadata": {},
   "outputs": [],
   "source": [
    "import pandas as pd\n",
    "\n",
    "errors = []\n",
    "for i in range(5):\n",
    "    errors.append(simulate(mu, sigma, alpha, p, n, y0, prop_sig_x, prop_sig_y, x0, epsilon, N, m)[1])\n",
    "\n",
    "errors = pd.DataFrame(errors)\n",
    "mean_error = errors.mean(axis = 0)"
   ]
  },
  {
   "cell_type": "code",
   "execution_count": null,
   "id": "337fd870",
   "metadata": {},
   "outputs": [],
   "source": [
    "plt.plot(mean_error)\n",
    "plt.title('Mean Error')\n",
    "plt.show()"
   ]
  },
  {
   "attachments": {},
   "cell_type": "markdown",
   "id": "6c5926fd",
   "metadata": {},
   "source": [
    "### Explore the initial position"
   ]
  },
  {
   "cell_type": "code",
   "execution_count": null,
   "id": "77284820",
   "metadata": {},
   "outputs": [],
   "source": [
    "x0 = [0,0,0,17.5,17.5]\n",
    "y0 = [0,0,0,17.5,17.5]\n",
    "\n",
    "import pandas as pd\n",
    "\n",
    "errors = []\n",
    "for i in range(5):\n",
    "    errors.append(simulate(mu, sigma, alpha, p, n, y0, prop_sig_x, prop_sig_y, x0, epsilon, N, m)[1])\n",
    "\n",
    "errors = pd.DataFrame(errors)\n",
    "mean_error = errors.mean(axis = 0)\n",
    "\n",
    "plt.plot(mean_error)\n",
    "plt.title('Mean Error Parallel')\n",
    "plt.show()"
   ]
  },
  {
   "cell_type": "code",
   "execution_count": null,
   "id": "779daac8",
   "metadata": {},
   "outputs": [],
   "source": [
    "x0 = [-20, -50, 50, 70, -15]\n",
    "y0 = [-20, -50, 50, 70, -15]\n",
    "import pandas as pd\n",
    "\n",
    "errors = []\n",
    "for i in range(5):\n",
    "    errors.append(simulate(mu, sigma, alpha, p, n, y0, prop_sig_x, prop_sig_y, x0, epsilon, N, m)[1])\n",
    "\n",
    "errors = pd.DataFrame(errors)\n",
    "mean_error = errors.mean(axis = 0)\n",
    "\n",
    "plt.plot(mean_error)\n",
    "plt.title('Mean Error Parallel')\n",
    "plt.show()"
   ]
  },
  {
   "cell_type": "code",
   "execution_count": null,
   "id": "740e3879",
   "metadata": {},
   "outputs": [],
   "source": [
    "x0 = [0,0,0,0,0]\n",
    "y0 = [0,0,0,0,0]\n",
    "\n",
    "import pandas as pd\n",
    "\n",
    "errors = []\n",
    "for i in range(5):\n",
    "    errors.append(simulate(mu, sigma, alpha, p, n, y0, prop_sig_x, prop_sig_y, x0, epsilon, N, m)[1])\n",
    "\n",
    "errors = pd.DataFrame(errors)\n",
    "mean_error = errors.mean(axis = 0)\n",
    "\n",
    "plt.plot(mean_error)\n",
    "plt.title('Mean Error Parallel')\n",
    "plt.show()"
   ]
  },
  {
   "attachments": {},
   "cell_type": "markdown",
   "id": "b511b54a",
   "metadata": {},
   "source": [
    "## Test"
   ]
  },
  {
   "attachments": {},
   "cell_type": "markdown",
   "id": "5e7fc1e1",
   "metadata": {},
   "source": [
    "### Calculate the error (Test)"
   ]
  },
  {
   "cell_type": "code",
   "execution_count": null,
   "id": "6a3da0d9",
   "metadata": {},
   "outputs": [],
   "source": [
    "def est_error(x_list, mu, sigma, alpha, n):\n",
    "    \n",
    "    x_min = min(x_list)\n",
    "    x_max = max(x_list)\n",
    "    interval = x_max - x_min\n",
    "    d_interval = interval/n\n",
    "    error = 0\n",
    "    \n",
    "    for i in range(n):\n",
    "        count = 0\n",
    "        \n",
    "        for j in x_list:\n",
    "            if (x_min <= j) & (j<= (x_min+d_interval)):\n",
    "                count += 1\n",
    "                \n",
    "        real = count/len(x_list)\n",
    "        mid_point = (2*x_min + d_interval)/2\n",
    "        val = f_pi(mid_point, mu, sigma, alpha)\n",
    "        x_min = x_min + d_interval\n",
    "        error += abs(real-val)\n",
    "    \n",
    "    return error"
   ]
  },
  {
   "cell_type": "code",
   "execution_count": null,
   "id": "f17b7382",
   "metadata": {},
   "outputs": [
    {
     "data": {
      "text/plain": [
       "1.5561264528227703"
      ]
     },
     "execution_count": 19,
     "metadata": {},
     "output_type": "execute_result"
    }
   ],
   "source": [
    "est_error(x_out.flatten(), mu, sigma, alpha, 100)"
   ]
  },
  {
   "cell_type": "code",
   "execution_count": null,
   "id": "fac5a96e",
   "metadata": {},
   "outputs": [],
   "source": [
    "x_errors = []\n",
    "\n",
    "for i in range(20):\n",
    "    result = simulate(mu, sigma, alpha, p, n, y0, prop_sig_x, prop_sig_y, x0, epsilon, N)\n",
    "    error = est_error(result.flatten(), mu, sigma, alpha, 100)\n",
    "    x_errors.append(error)\n",
    "    \n",
    "error = mean(x_errors)\n",
    "error"
   ]
  }
 ],
 "metadata": {
  "kernelspec": {
   "display_name": "Python 3",
   "language": "python",
   "name": "python3"
  },
  "language_info": {
   "codemirror_mode": {
    "name": "ipython",
    "version": 3
   },
   "file_extension": ".py",
   "mimetype": "text/x-python",
   "name": "python",
   "nbconvert_exporter": "python",
   "pygments_lexer": "ipython3",
   "version": "3.8.13"
  },
  "vscode": {
   "interpreter": {
    "hash": "40d3a090f54c6569ab1632332b64b2c03c39dcf918b08424e98f38b5ae0af88f"
   }
  }
 },
 "nbformat": 4,
 "nbformat_minor": 5
}
