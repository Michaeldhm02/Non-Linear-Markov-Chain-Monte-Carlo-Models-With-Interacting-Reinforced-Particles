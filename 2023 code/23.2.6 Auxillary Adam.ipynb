{
 "cells": [
  {
   "cell_type": "code",
   "execution_count": 284,
   "id": "c2d03435",
   "metadata": {},
   "outputs": [],
   "source": [
    "import numpy as np\n",
    "import random as rm\n",
    "import pandas as pd\n",
    "from random import seed\n",
    "from random import random\n",
    "import matplotlib.pyplot as plt\n",
    "from pylab import *\n",
    "from scipy.optimize import curve_fit\n",
    "from scipy.stats import bernoulli, binom, norm\n",
    "from scipy import integrate\n",
    "import time\n",
    "rng = np.random.default_rng()"
   ]
  },
  {
   "cell_type": "code",
   "execution_count": 101,
   "id": "1a690911",
   "metadata": {},
   "outputs": [],
   "source": [
    "def f_pi(x, mu, sigma, alpha):\n",
    "    val = 0\n",
    "    for i in range(len(mu)):\n",
    "        val += alpha[i]*norm.pdf(x, mu[i], sigma[i])\n",
    "    return val\n",
    "    \n",
    "def f_eta_unnormalized(x, mu, sigma, alpha, p):\n",
    "    return f_pi(x, mu, sigma, alpha)**p\n",
    "\n",
    "def compute_c(mu, sigma, alpha, p):\n",
    "    def f_eta_unnormalized_temp(x):\n",
    "        return f_eta_unnormalized(x, mu, sigma, alpha, p)\n",
    "    c = integrate.quad(f_eta_unnormalized_temp, -np.inf, np.inf)[0]\n",
    "    return c\n",
    "\n",
    "# c = compute_c(mu, sigma, alpha, p)\n",
    "    \n",
    "def f_eta(x, mu, sigma, alpha, p, c):\n",
    "    return f_eta_unnormalized(x, mu, sigma, alpha, p)/c\n",
    "\n",
    "def g(x, mu, sigma, alpha, p, c):\n",
    "    return(f_pi(x, mu, sigma, alpha)/f_eta(x, mu, sigma, alpha, p, c))"
   ]
  },
  {
   "cell_type": "code",
   "execution_count": 105,
   "id": "c4cf843a",
   "metadata": {},
   "outputs": [],
   "source": [
    "c = compute_c(mu,sigma,alpha,p)"
   ]
  },
  {
   "cell_type": "code",
   "execution_count": 15,
   "id": "842685ff",
   "metadata": {},
   "outputs": [],
   "source": [
    "def p_kernel(y0, prop_sig_y, n, mu, sigma, alpha, p):\n",
    "        count = 0\n",
    "        Yn = y0\n",
    "        estimator = np.array([y0])\n",
    "        while count < n:\n",
    "            y = np.random.normal(Yn, prop_sig_y)\n",
    "            u = np.random.uniform(0,1)\n",
    "            a = min(f_eta_unnormalized(y, mu, sigma, alpha, p)/f_eta_unnormalized(Yn, mu, sigma, alpha, p), 1)\n",
    "            if u <= a:\n",
    "                estimator = np.append(estimator, y)\n",
    "                Yn = y\n",
    "                count += 1\n",
    "        return estimator"
   ]
  },
  {
   "cell_type": "code",
   "execution_count": 16,
   "id": "cc00e904",
   "metadata": {},
   "outputs": [],
   "source": [
    "def k_kernel_nsteps(z0, prop_sig_z, n, mu, sigma, alpha):\n",
    "        count = 0\n",
    "        Zn = z0\n",
    "        estimator = np.array([z0])\n",
    "        while count < n:\n",
    "            z = np.random.normal(Zn, prop_sig_z)\n",
    "            u = np.random.uniform(0,1)\n",
    "            a = min(f_pi(z, mu, sigma, alpha)/f_pi(Zn, mu, sigma, alpha), 1)\n",
    "            if u <= a:\n",
    "                estimator = np.append(estimator, z)\n",
    "                Zn = z\n",
    "                count += 1\n",
    "        return estimator"
   ]
  },
  {
   "cell_type": "code",
   "execution_count": 17,
   "id": "3b89d70b",
   "metadata": {},
   "outputs": [],
   "source": [
    "def k_kernel(Xn, prop_sig_x, mu, prop_sig_x, alpha):\n",
    "    Xnew = k_kernel_nsteps(Xn, prop_sig_x, 1, mu, sigma, alpha)[-1]\n",
    "    return(Xnew)"
   ]
  },
  {
   "cell_type": "code",
   "execution_count": 7,
   "id": "5d73325b",
   "metadata": {},
   "outputs": [],
   "source": [
    "def sum_g(sum_old, yn, mu, sigma, alpha, p, c):\n",
    "    return sum_old + sum_old + sum(g(yn, mu, sigma, alpha, p, c))\n",
    "\n",
    "def prob_list(y, sum_old, prob_list_old, mu, sigma, alpha, p, c):\n",
    "        #a = sum_old/sum_g(sum_old, y, mu, sigma, alpha, p, c)\n",
    "        #prob_list = prob_list_old*a\n",
    "        prob_list_new = g(y, mu, sigma, alpha, p, c)/sum_g(sum_old, y, mu, sigma, alpha, p, c)\n",
    "        #prob_list = np.insert(prob_list, len(prob_list[0]), prob_list_new, axis=1)\n",
    "        return prob_list_new"
   ]
  },
  {
   "cell_type": "code",
   "execution_count": 65,
   "id": "ef60ebce",
   "metadata": {},
   "outputs": [],
   "source": [
    "def generate_y_data(y0, prop_sig_y, n, mu, sigma, alpha, p, N):\n",
    "    Y_mat = np.zeros((N,n))\n",
    "    for i in range(N):\n",
    "        Y_mat[i,] = p_kernel(y0[i], prop_sig_y, n-1, mu, sigma, alpha, p)\n",
    "    return Y_mat"
   ]
  },
  {
   "cell_type": "code",
   "execution_count": 136,
   "id": "49e783ab",
   "metadata": {},
   "outputs": [
    {
     "name": "stdout",
     "output_type": "stream",
     "text": [
      "[[0.08612895 0.04306448 0.04306448]\n",
      " [0.25838686 0.1722579  0.25838686]]\n"
     ]
    },
    {
     "data": {
      "text/plain": [
       "array([[0.08612895, 0.04306448, 0.04306448, 0.09699404],\n",
       "       [0.25838686, 0.1722579 , 0.25838686, 0.04171644]])"
      ]
     },
     "execution_count": 136,
     "metadata": {},
     "output_type": "execute_result"
    }
   ],
   "source": [
    "####Testing some functions\n",
    "\n",
    "Y_dat_test[0]\n",
    "\n",
    "sum(g(Y_dat_test[0],mu,sigma,alpha,p,c))\n",
    "\n",
    "Y_dat_test[0]*1/2\n",
    "\n",
    "prob_matrix_rescaled = np.array([[0.1,.05,.05],[.3,.2,.3]])\n",
    "prob_matrix_rescaled\n",
    "\n",
    "sum_old = 10\n",
    "newys = np.array([[5],[10]])\n",
    "newgs = g(newys, mu, sigma, alpha, p, c)\n",
    "sum_new = sum_old + sum(newgs)\n",
    "\n",
    "prob_mat_res = prob_matrix_rescaled*sum_old/sum_new\n",
    "\n",
    "prob_matrix_new_cl = newgs/sum_new\n",
    "print(prob_mat_res)\n",
    "np.concatenate((prob_mat_res, prob_matrix_new_cl), axis=1)"
   ]
  },
  {
   "cell_type": "code",
   "execution_count": 306,
   "id": "07a6a9e7",
   "metadata": {
    "scrolled": true
   },
   "outputs": [],
   "source": [
    "#This function serve the same purpose as prob_matrix\n",
    "def update_y_prob_mat(new_y, sum_old, prob_matrix_old, mu, sigma, alpha, p, c):\n",
    "    new_g_vals = g(new_y, mu, sigma, alpha, p, c)\n",
    "    sum_new = sum_old + sum(new_g_vals)\n",
    "    prob_matrix_rescaled = prob_matrix_old*sum_old/sum_new\n",
    "    prob_matrix_new_col = new_g_vals/sum_new\n",
    "    prob_matrix_new = np.concatenate((prob_matrix_rescaled, prob_matrix_new_col), axis=1)\n",
    "    return(prob_matrix_new, sum_new)"
   ]
  },
  {
   "cell_type": "code",
   "execution_count": 8,
   "id": "1ee9f2a3",
   "metadata": {},
   "outputs": [],
   "source": [
    "def prob_matrix(Y_list, sum_old, prob_matrix_old, mu, sigma, alpha, p, c):\n",
    "        g_value = 0\n",
    "        for i in (Y_list):\n",
    "            g_value += g(i, mu, sigma, alpha, p, c)\n",
    "        sum_new = sum_old+g_value\n",
    "        a = sum_old/sum_new\n",
    "        prob_matrix = prob_matrix_old*a\n",
    "        for i in range(len(Y_list)):\n",
    "            Y_list [i] = g(Y_list[i], mu, sigma, alpha, p, c)/sum_new\n",
    "        prob_matrix = np.insert(prob_matrix,len(prob_matrix[0])-1,Y_list,axis=1)\n",
    "        return prob_matrix"
   ]
  },
  {
   "cell_type": "code",
   "execution_count": 369,
   "id": "ed476c15",
   "metadata": {},
   "outputs": [],
   "source": [
    "def simulate(mu, sigma, alpha, p, n, y0_list, prop_sig_x, prop_sig_y, x0_list, eps, N):\n",
    "    \n",
    "    c = compute_c(mu, sigma, alpha, p)\n",
    "    \n",
    "    #Generate all of the Y data\n",
    "    Y_matrix = generate_y_data(y0, prop_sig_y, n, mu, sigma, alpha, p, N)\n",
    "    \n",
    "    #Initialize the probabillity matrix\n",
    "    sum_old = sum(g(Y_matrix[:,0], mu, sigma, alpha, p, c))\n",
    "    prob_matrix_old = np.transpose(np.array([g(Y_matrix[:,0], mu, sigma, alpha, p ,c)]/sum_old))\n",
    "    \n",
    "    #Initialize the matrix of X data\n",
    "    \n",
    "    X_matrix = np.transpose(np.array([x0_list]))\n",
    " \n",
    "    for i in range(1,n):\n",
    "        \n",
    "        #Update the probability matrix using the i-th column of Y data\n",
    "        prob_matrix_new = update_y_prob_mat(np.transpose([Y_matrix[:,i]]), sum_old, prob_matrix_old, mu, sigma, alpha, p, c)\n",
    "        \n",
    "        #Extract the sum of all g(Y) values so far\n",
    "        sum_new = prob_matrix_new[1]\n",
    "        sum_old = sum_new\n",
    "        \n",
    "        #Extract the value of the updated probability matrix\n",
    "        prob_matrix_old = prob_matrix_new[0]\n",
    "        \n",
    "        #Convert the array of Y positions to a vector\n",
    "        y_vec = Y_matrix[:,:(i+1)].flatten()\n",
    "                \n",
    "        #Convert the probability matrix to a vector\n",
    "        prob_vec = prob_matrix_old.flatten()\n",
    "        \n",
    "        #Generate a new vector of X positions\n",
    "        x_vec = np.zeros(N)\n",
    "        for j in range(N):\n",
    "            b = bernoulli(epsilon).rvs(1)\n",
    "            if b == 0:\n",
    "                x_vec[j] = k_kernel(X_matrix[j][i-1], prop_sig_x, mu, sigma, alpha)\n",
    "            if b == 1:\n",
    "                x_vec[j] = np.random.choice(y_vec, p = prob_vec)\n",
    "        X_matrix = np.concatenate((X_matrix, np.transpose([x_vec])), axis=1)\n",
    "    return(X_matrix)"
   ]
  },
  {
   "cell_type": "code",
   "execution_count": 388,
   "id": "e14de3a6",
   "metadata": {},
   "outputs": [],
   "source": [
    "epsilon = 0.01\n",
    "y0 = [1,2,3,4]\n",
    "x0 = [6,7,8,8]\n",
    "n = 10000\n",
    "prop_sig_x = 2\n",
    "prop_sig_y = 2\n",
    "mu = np.array([0, 3])\n",
    "sigma = np.array([1, 4])\n",
    "alpha = np.array([0.3, 0.7])\n",
    "N = len(x0)\n",
    "p = 0.4\n",
    "\n",
    "x_out = simulate(mu, sigma, alpha, p, n, y0, prop_sig_x, prop_sig_y, x0, epsilon, N)"
   ]
  },
  {
   "cell_type": "code",
   "execution_count": 389,
   "id": "e0cc80de",
   "metadata": {},
   "outputs": [],
   "source": [
    "f_pi_plot = lambda z: f_pi(z, mu, sigma, alpha)\n",
    "t = np.linspace(-10,15,100)\n",
    "vals = f_pi_plot(t)"
   ]
  },
  {
   "cell_type": "code",
   "execution_count": 390,
   "id": "c73951d9",
   "metadata": {},
   "outputs": [
    {
     "data": {
      "image/png": "[encoded data removed]",
      "text/plain": [
       "<Figure size 432x288 with 1 Axes>"
      ]
     },
     "metadata": {
      "needs_background": "light"
     },
     "output_type": "display_data"
    }
   ],
   "source": [
    "plt.hist(x_out.flatten(), density = True, bins = 1000)\n",
    "plt.plot(t,vals, 'r')\n",
    "plt.show()"
   ]
  }
 ],
 "metadata": {
  "kernelspec": {
   "display_name": "Python 3",
   "language": "python",
   "name": "python3"
  },
  "language_info": {
   "codemirror_mode": {
    "name": "ipython",
    "version": 3
   },
   "file_extension": ".py",
   "mimetype": "text/x-python",
   "name": "python",
   "nbconvert_exporter": "python",
   "pygments_lexer": "ipython3",
   "version": "3.8.8"
  }
 },
 "nbformat": 4,
 "nbformat_minor": 5
}
