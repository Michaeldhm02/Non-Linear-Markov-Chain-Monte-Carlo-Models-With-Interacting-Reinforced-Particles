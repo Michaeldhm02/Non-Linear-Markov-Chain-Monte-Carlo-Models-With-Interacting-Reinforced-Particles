{
 "cells": [
  {
   "cell_type": "markdown",
   "id": "6b552f3f",
   "metadata": {},
   "source": [
    "### Import all packages"
   ]
  },
  {
   "cell_type": "code",
   "execution_count": 1,
   "id": "7cb43a21",
   "metadata": {},
   "outputs": [],
   "source": [
    "import numpy as np\n",
    "import random as rm\n",
    "import pandas as pd\n",
    "from random import seed\n",
    "from random import random\n",
    "import matplotlib.pyplot as plt\n",
    "from pylab import *\n",
    "from scipy.optimize import curve_fit\n",
    "from scipy.stats import bernoulli, binom, norm\n",
    "from scipy import integrate\n",
    "import time\n",
    "rng = np.random.default_rng()"
   ]
  },
  {
   "cell_type": "markdown",
   "id": "480df7b4",
   "metadata": {},
   "source": [
    "### Basic Functions"
   ]
  },
  {
   "cell_type": "code",
   "execution_count": 2,
   "id": "1a690911",
   "metadata": {},
   "outputs": [],
   "source": [
    "def f_pi(x, mu, sigma, alpha):\n",
    "    val = 0\n",
    "    for i in range(len(mu)):\n",
    "        val += alpha[i]*norm.pdf(x, mu[i], sigma[i])\n",
    "    return val\n",
    "    \n",
    "def f_eta_unnormalized(x, mu, sigma, alpha, p):\n",
    "    return f_pi(x, mu, sigma, alpha)**p\n",
    "\n",
    "def compute_c(mu, sigma, alpha, p):\n",
    "    def f_eta_unnormalized_temp(x):\n",
    "        return f_eta_unnormalized(x, mu, sigma, alpha, p)\n",
    "    c = integrate.quad(f_eta_unnormalized_temp, -np.inf, np.inf)[0]\n",
    "    return c\n",
    "\n",
    "# c = compute_c(mu, sigma, alpha, p)\n",
    "    \n",
    "def f_eta(x, mu, sigma, alpha, p, c):\n",
    "    return f_eta_unnormalized(x, mu, sigma, alpha, p)/c\n",
    "\n",
    "def g(x, mu, sigma, alpha, p, c):\n",
    "    return(f_pi(x, mu, sigma, alpha)/f_eta(x, mu, sigma, alpha, p, c))"
   ]
  },
  {
   "cell_type": "markdown",
   "id": "38bd8c72",
   "metadata": {},
   "source": [
    "### P kernel and K kernel"
   ]
  },
  {
   "cell_type": "code",
   "execution_count": 3,
   "id": "842685ff",
   "metadata": {},
   "outputs": [],
   "source": [
    "def p_kernel(y0, prop_sig_y, n, mu, sigma, alpha, p):\n",
    "        count = 0\n",
    "        Yn = y0\n",
    "        estimator = np.array([y0])\n",
    "        while count < n:\n",
    "            y = np.random.normal(Yn, prop_sig_y)\n",
    "            u = np.random.uniform(0,1)\n",
    "            a = min(f_eta_unnormalized(y, mu, sigma, alpha, p)/f_eta_unnormalized(Yn, mu, sigma, alpha, p), 1)\n",
    "            if u <= a:\n",
    "                estimator = np.append(estimator, y)\n",
    "                Yn = y\n",
    "                count += 1\n",
    "        return estimator"
   ]
  },
  {
   "cell_type": "code",
   "execution_count": 4,
   "id": "cc00e904",
   "metadata": {},
   "outputs": [],
   "source": [
    "def k_kernel_nsteps(z0, prop_sig_z, n, mu, sigma, alpha):\n",
    "        count = 0\n",
    "        Zn = z0\n",
    "        estimator = np.array([z0])\n",
    "        while count < n:\n",
    "            z = np.random.normal(Zn, prop_sig_z)\n",
    "            u = np.random.uniform(0,1)\n",
    "            a = min(f_pi(z, mu, sigma, alpha)/f_pi(Zn, mu, sigma, alpha), 1)\n",
    "            if u <= a:\n",
    "                estimator = np.append(estimator, z)\n",
    "                Zn = z\n",
    "                count += 1\n",
    "        return estimator"
   ]
  },
  {
   "cell_type": "code",
   "execution_count": 5,
   "id": "3b89d70b",
   "metadata": {},
   "outputs": [],
   "source": [
    "def k_kernel(Xn, prop_sig_x, mu,sigma,alpha):\n",
    "    Xnew = k_kernel_nsteps(Xn, prop_sig_x, 1, mu, sigma, alpha)[-1]\n",
    "    return(Xnew)"
   ]
  },
  {
   "cell_type": "markdown",
   "id": "cac315f8",
   "metadata": {},
   "source": [
    "### Y Update functions"
   ]
  },
  {
   "cell_type": "code",
   "execution_count": 6,
   "id": "5d73325b",
   "metadata": {},
   "outputs": [],
   "source": [
    "def sum_g(sum_old, yn, mu, sigma, alpha, p, c):\n",
    "    return sum_old + sum_old + sum(g(yn, mu, sigma, alpha, p, c))"
   ]
  },
  {
   "cell_type": "code",
   "execution_count": 7,
   "id": "ef60ebce",
   "metadata": {},
   "outputs": [],
   "source": [
    "def generate_y_data(y0, prop_sig_y, n, mu, sigma, alpha, p, N):\n",
    "    Y_mat = np.zeros((N,n))\n",
    "    for i in range(N):\n",
    "        Y_mat[i,] = p_kernel(y0[i], prop_sig_y, n-1, mu, sigma, alpha, p)\n",
    "    return Y_mat"
   ]
  },
  {
   "cell_type": "code",
   "execution_count": 8,
   "id": "07a6a9e7",
   "metadata": {
    "scrolled": true
   },
   "outputs": [],
   "source": [
    "# This function serve the same purpose as prob_matrix\n",
    "def update_y_prob_mat(new_y, sum_old, prob_matrix_old, mu, sigma, alpha, p, c):\n",
    "    new_g_vals = g(new_y, mu, sigma, alpha, p, c)\n",
    "    sum_new = sum_old + sum(new_g_vals)\n",
    "    prob_matrix_rescaled = prob_matrix_old*sum_old/sum_new\n",
    "    prob_matrix_new_col = new_g_vals/sum_new\n",
    "    prob_matrix_new = np.concatenate((prob_matrix_rescaled, prob_matrix_new_col), axis=1)\n",
    "    return(prob_matrix_new, sum_new)"
   ]
  },
  {
   "cell_type": "markdown",
   "id": "d289957d",
   "metadata": {},
   "source": [
    "### Final simulation function"
   ]
  },
  {
   "cell_type": "code",
   "execution_count": 9,
   "id": "a495beea",
   "metadata": {},
   "outputs": [],
   "source": [
    "def est_error(x_list, mu, sigma, alpha, m):\n",
    "    \n",
    "    x_min = min(x_list)\n",
    "    x_max = max(x_list)\n",
    "    interval = x_max - x_min\n",
    "    d_interval = interval/m\n",
    "    error = 0\n",
    "    \n",
    "    for i in range(m):\n",
    "        count = 0\n",
    "        \n",
    "        for j in x_list:\n",
    "            if (x_min <= j) & (j<= (x_min+d_interval)):\n",
    "                count += 1\n",
    "                \n",
    "        real = count/len(x_list)\n",
    "        mid_point = (2*x_min + d_interval)/2\n",
    "        val = f_pi(mid_point, mu, sigma, alpha)\n",
    "        x_min = x_min + d_interval\n",
    "        error += abs(real-val)\n",
    "    \n",
    "    return error"
   ]
  },
  {
   "cell_type": "code",
   "execution_count": 10,
   "id": "ed476c15",
   "metadata": {},
   "outputs": [],
   "source": [
    "def simulate(mu, sigma, alpha, p, n, y0_list, prop_sig_x, prop_sig_y, x0_list, eps, N, m):\n",
    "    \n",
    "    c = compute_c(mu, sigma, alpha, p)\n",
    "    \n",
    "    #Generate all of the Y data\n",
    "    Y_matrix = generate_y_data(y0_list, prop_sig_y, n, mu, sigma, alpha, p, N)\n",
    "    \n",
    "    #Initialize the probabillity matrix\n",
    "    sum_old = sum(g(Y_matrix[:,0], mu, sigma, alpha, p, c))\n",
    "    prob_matrix_old = np.transpose(np.array([g(Y_matrix[:,0], mu, sigma, alpha, p ,c)]/sum_old))\n",
    "    \n",
    "    #Initialize the matrix of X data\n",
    "    \n",
    "    X_matrix = np.transpose(np.array([x0_list]))\n",
    "    errors = []\n",
    "    diff = []\n",
    "    \n",
    "    for i in range(1,n):\n",
    "        \n",
    "        #Update the probability matrix using the i-th column of Y data\n",
    "        prob_matrix_new = update_y_prob_mat(np.transpose([Y_matrix[:,i]]), sum_old, prob_matrix_old, mu, sigma, alpha, p, c)\n",
    "        \n",
    "        #Extract the sum of all g(Y) values so far\n",
    "        sum_new = prob_matrix_new[1]\n",
    "        sum_old = sum_new\n",
    "        \n",
    "        #Extract the value of the updated probability matrix\n",
    "        prob_matrix_old = prob_matrix_new[0]\n",
    "        \n",
    "        #Convert the array of Y positions to a vector\n",
    "        y_vec = Y_matrix[:,:(i+1)].flatten()\n",
    "                \n",
    "        #Convert the probability matrix to a vector\n",
    "        prob_vec = prob_matrix_old.flatten()\n",
    "        \n",
    "        #Generate a new vector of X positions\n",
    "        x_vec = np.zeros(N)\n",
    "        for j in range(N):\n",
    "            b = bernoulli(eps).rvs(1)\n",
    "            if b == 0:\n",
    "                x_vec[j] = k_kernel(X_matrix[j][i-1], prop_sig_x, mu,sigma, alpha)\n",
    "            if b == 1:\n",
    "                x_vec[j] = np.random.choice(y_vec, p = prob_vec)\n",
    "        X_matrix = np.concatenate((X_matrix, np.transpose([x_vec])), axis=1)\n",
    "        \n",
    "    '''\n",
    "    for i in range(1,int(n/40)):\n",
    "        # print(X_matrix[:,:int(i*10)])\n",
    "        error = est_error(X_matrix[:,:int(i*40)].flatten(), mu, sigma, alpha, m)\n",
    "        errors.append(error)\n",
    "    '''\n",
    "    \n",
    "    for i in range(1,50):\n",
    "        # print(X_matrix[:,:int(i*10)])\n",
    "        dif = sum(X_matrix[:,:int(i*n/50)].flatten())/X_matrix[:,:int(i*n/50)].size\n",
    "        #-mu[0]*alpha[0]+mu[1]*alpha[1]\n",
    "        diff.append(dif)\n",
    "      \n",
    "        \n",
    "    return X_matrix, diff"
   ]
  },
  {
   "cell_type": "markdown",
   "id": "d2ae1b6c",
   "metadata": {},
   "source": [
    "### Test Example"
   ]
  },
  {
   "cell_type": "code",
   "execution_count": 14,
   "id": "e14de3a6",
   "metadata": {},
   "outputs": [
    {
     "data": {
      "text/plain": [
       "9.772306001986212"
      ]
     },
     "execution_count": 14,
     "metadata": {},
     "output_type": "execute_result"
    }
   ],
   "source": [
    "epsilon = 0.01\n",
    "y0 = [15, -5, 12, 1, -2]\n",
    "x0 = [10, 13, -4, -2, 3]\n",
    "n = 2000\n",
    "prop_sig_x = 2\n",
    "prop_sig_y = 2\n",
    "mu = np.array([0, 17.5])\n",
    "sigma = np.array([1, 4])\n",
    "alpha = np.array([0.3, 0.7])\n",
    "N = len(x0)\n",
    "p = 0.4\n",
    "m = int(n/10)\n",
    "\n",
    "x_out = simulate(mu, sigma, alpha, p, n, y0, prop_sig_x, prop_sig_y, x0, epsilon, N, m)[0]\n",
    "diff_list = simulate(mu, sigma, alpha, p, n, y0, prop_sig_x, prop_sig_y, x0, epsilon, N, m)[1]\n",
    "mean(diff_list)"
   ]
  },
  {
   "cell_type": "code",
   "execution_count": 15,
   "id": "e0cc80de",
   "metadata": {},
   "outputs": [
    {
     "data": {
      "image/png": "[encoded data removed]",
      "text/plain": [
       "<Figure size 640x480 with 1 Axes>"
      ]
     },
     "metadata": {},
     "output_type": "display_data"
    }
   ],
   "source": [
    "f_pi_plot = lambda z: f_pi(z, mu, sigma, alpha)\n",
    "t = np.linspace(-20,25,100)\n",
    "vals = f_pi_plot(t)\n",
    "\n",
    "plt.hist(x_out.flatten(), density = True, bins = 100)\n",
    "plt.plot(t,vals, 'r')\n",
    "plt.show()"
   ]
  },
  {
   "attachments": {},
   "cell_type": "markdown",
   "id": "3e982e73",
   "metadata": {},
   "source": [
    "## Explore Initial Position for difference of expected and theoretical mean"
   ]
  },
  {
   "cell_type": "code",
   "execution_count": 18,
   "id": "fe9190aa",
   "metadata": {},
   "outputs": [],
   "source": [
    "x0 = [0,0,0,17.5,17.5]\n",
    "y0 = [0,0,0,17.5,17.5]\n",
    "\n",
    "\n",
    "n=20000\n",
    "diff = []\n",
    "for i in range(50):\n",
    "    diff.append(mean(simulate(mu, sigma, alpha, p, n, y0, prop_sig_x, prop_sig_y, x0, epsilon, N, m)[1]))\n",
    "\n",
    "print(diff)\n",
    "plt.plot(diff)\n",
    "plt.show()"
   ]
  },
  {
   "cell_type": "code",
   "execution_count": null,
   "id": "7076388a",
   "metadata": {},
   "outputs": [],
   "source": [
    "x0 = [-20, -50, 50, 70, -15]\n",
    "y0 = [-20, -50, 50, 70, -15]\n",
    "\n",
    "\n",
    "n=20000\n",
    "diff = []\n",
    "for i in range(50):\n",
    "    diff.append(mean(simulate(mu, sigma, alpha, p, n, y0, prop_sig_x, prop_sig_y, x0, epsilon, N, m)[1]))\n",
    "\n",
    "print(diff)\n",
    "plt.plot(diff)\n",
    "plt.show()"
   ]
  },
  {
   "cell_type": "code",
   "execution_count": null,
   "id": "0e68dbd8",
   "metadata": {},
   "outputs": [],
   "source": [
    "x0 = [0,0,0,0,0]\n",
    "y0 = [0,0,0,0,0]\n",
    "\n",
    "n=20000\n",
    "diff = []\n",
    "for i in range(50):\n",
    "    diff.append(mean(simulate(mu, sigma, alpha, p, n, y0, prop_sig_x, prop_sig_y, x0, epsilon, N, m)[1]))\n",
    "\n",
    "print(diff)\n",
    "plt.plot(diff)\n",
    "plt.show()"
   ]
  },
  {
   "attachments": {},
   "cell_type": "markdown",
   "id": "3496e7f6",
   "metadata": {},
   "source": [
    "## Error Plot"
   ]
  },
  {
   "attachments": {},
   "cell_type": "markdown",
   "id": "768a91ed",
   "metadata": {},
   "source": [
    "### Error Plot (Single Case Test)"
   ]
  },
  {
   "cell_type": "code",
   "execution_count": null,
   "id": "9e2f4f28",
   "metadata": {},
   "outputs": [],
   "source": [
    "# single case plot\n",
    "for i in range (5):\n",
    "    error_out = simulate(mu, sigma, alpha, p, n, y0, prop_sig_x, prop_sig_y, x0, epsilon, N, m)[1]\n",
    "    plt.plot(error_out)\n",
    "    plt.show()"
   ]
  },
  {
   "attachments": {},
   "cell_type": "markdown",
   "id": "e1fa0aa5",
   "metadata": {},
   "source": [
    "### Plot for mean error"
   ]
  },
  {
   "cell_type": "code",
   "execution_count": null,
   "id": "a22b8fe6",
   "metadata": {},
   "outputs": [],
   "source": [
    "import pandas as pd\n",
    "\n",
    "errors = []\n",
    "for i in range(5):\n",
    "    errors.append(simulate(mu, sigma, alpha, p, n, y0, prop_sig_x, prop_sig_y, x0, epsilon, N, m)[1])\n",
    "\n",
    "errors = pd.DataFrame(errors)\n",
    "mean_error = errors.mean(axis = 0)"
   ]
  },
  {
   "cell_type": "code",
   "execution_count": null,
   "id": "d7e6e864",
   "metadata": {},
   "outputs": [],
   "source": [
    "plt.plot(mean_error)\n",
    "plt.title('Mean Error')\n",
    "plt.show()"
   ]
  },
  {
   "attachments": {},
   "cell_type": "markdown",
   "id": "4f926771",
   "metadata": {},
   "source": [
    "### Explore the initial position"
   ]
  },
  {
   "cell_type": "code",
   "execution_count": null,
   "id": "9ecf5bee",
   "metadata": {},
   "outputs": [],
   "source": [
    "x0 = [0,0,0,17.5,17.5]\n",
    "y0 = [0,0,0,17.5,17.5]\n",
    "\n",
    "import pandas as pd\n",
    "\n",
    "errors = []\n",
    "for i in range(5):\n",
    "    errors.append(simulate(mu, sigma, alpha, p, n, y0, prop_sig_x, prop_sig_y, x0, epsilon, N, m)[1])\n",
    "\n",
    "errors = pd.DataFrame(errors)\n",
    "mean_error = errors.mean(axis = 0)\n",
    "\n",
    "plt.plot(mean_error)\n",
    "plt.title('Mean Error Parallel')\n",
    "plt.show()"
   ]
  },
  {
   "cell_type": "code",
   "execution_count": null,
   "id": "a73248ea",
   "metadata": {},
   "outputs": [],
   "source": [
    "x0 = [-20, -50, 50, 70, -15]\n",
    "y0 = [-20, -50, 50, 70, -15]\n",
    "\n",
    "import pandas as pd\n",
    "\n",
    "errors = []\n",
    "for i in range(5):\n",
    "    errors.append(simulate(mu, sigma, alpha, p, n, y0, prop_sig_x, prop_sig_y, x0, epsilon, N, m)[1])\n",
    "\n",
    "errors = pd.DataFrame(errors)\n",
    "mean_error = errors.mean(axis = 0)\n",
    "\n",
    "plt.plot(mean_error)\n",
    "plt.title('Mean Error Parallel')\n",
    "plt.show()"
   ]
  },
  {
   "cell_type": "code",
   "execution_count": null,
   "id": "3fe97f0d",
   "metadata": {},
   "outputs": [],
   "source": [
    "x0 = [0,0,0,0,0]\n",
    "y0 = [0,0,0,0,0]\n",
    "\n",
    "import pandas as pd\n",
    "\n",
    "errors = []\n",
    "for i in range(5):\n",
    "    errors.append(simulate(mu, sigma, alpha, p, n, y0, prop_sig_x, prop_sig_y, x0, epsilon, N, m)[1])\n",
    "\n",
    "errors = pd.DataFrame(errors)\n",
    "mean_error = errors.mean(axis = 0)\n",
    "\n",
    "plt.plot(mean_error)\n",
    "plt.title('Mean Error Parallel')\n",
    "plt.show()"
   ]
  },
  {
   "attachments": {},
   "cell_type": "markdown",
   "id": "afb495a9",
   "metadata": {},
   "source": [
    "## Test "
   ]
  },
  {
   "attachments": {},
   "cell_type": "markdown",
   "id": "51a45bb5",
   "metadata": {},
   "source": [
    "### Calculate the error (Test)"
   ]
  },
  {
   "cell_type": "code",
   "execution_count": null,
   "id": "b677a23b",
   "metadata": {},
   "outputs": [],
   "source": [
    "def est_error(x_list, mu, sigma, alpha, n):\n",
    "    \n",
    "    x_min = min(x_list)\n",
    "    x_max = max(x_list)\n",
    "    interval = x_max - x_min\n",
    "    d_interval = interval/n\n",
    "    error = 0\n",
    "    \n",
    "    for i in range(n):\n",
    "        count = 0\n",
    "        \n",
    "        for j in x_list:\n",
    "            if (x_min <= j) & (j<= (x_min+d_interval)):\n",
    "                count += 1\n",
    "                \n",
    "        real = count/len(x_list)\n",
    "        mid_point = (2*x_min + d_interval)/2\n",
    "        val = f_pi(mid_point, mu, sigma, alpha)\n",
    "        x_min = x_min + d_interval\n",
    "        error += abs(real-val)\n",
    "    \n",
    "    return error"
   ]
  },
  {
   "cell_type": "code",
   "execution_count": null,
   "id": "7def5859",
   "metadata": {},
   "outputs": [
    {
     "data": {
      "text/plain": [
       "1.7890830914043416"
      ]
     },
     "execution_count": 20,
     "metadata": {},
     "output_type": "execute_result"
    }
   ],
   "source": [
    "est_error(x_out.flatten(), mu, sigma, alpha, 100)"
   ]
  }
 ],
 "metadata": {
  "kernelspec": {
   "display_name": "Python 3",
   "language": "python",
   "name": "python3"
  },
  "language_info": {
   "codemirror_mode": {
    "name": "ipython",
    "version": 3
   },
   "file_extension": ".py",
   "mimetype": "text/x-python",
   "name": "python",
   "nbconvert_exporter": "python",
   "pygments_lexer": "ipython3",
   "version": "3.8.13"
  },
  "vscode": {
   "interpreter": {
    "hash": "40d3a090f54c6569ab1632332b64b2c03c39dcf918b08424e98f38b5ae0af88f"
   }
  }
 },
 "nbformat": 4,
 "nbformat_minor": 5
}
