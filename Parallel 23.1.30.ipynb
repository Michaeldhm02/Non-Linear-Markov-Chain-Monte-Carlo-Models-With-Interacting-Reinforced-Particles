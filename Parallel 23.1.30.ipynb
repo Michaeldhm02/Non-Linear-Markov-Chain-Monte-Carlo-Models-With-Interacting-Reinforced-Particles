{
 "cells": [
  {
   "cell_type": "code",
   "execution_count": 1,
   "id": "037583b8",
   "metadata": {},
   "outputs": [],
   "source": [
    "import numpy as np\n",
    "import random as rm\n",
    "import pandas as pd\n",
    "from random import seed\n",
    "from random import random\n",
    "import matplotlib.pyplot as plt\n",
    "from pylab import *\n",
    "from scipy.optimize import curve_fit\n",
    "from scipy.stats import bernoulli, binom, norm\n",
    "from scipy import integrate\n",
    "import time"
   ]
  },
  {
   "cell_type": "code",
   "execution_count": 15,
   "id": "1afff2c9",
   "metadata": {},
   "outputs": [],
   "source": [
    "def f_pi(x, mu, sigma, alpha):\n",
    "    val = 0\n",
    "    for i in range(len(mu)):\n",
    "        val += alpha[i]*norm.pdf(x, mu[i], sigma[i])\n",
    "    return val\n",
    "    \n",
    "def f_eta_unnormalized(x, mu, sigma, alpha, p):\n",
    "    return f_pi(x, mu, sigma, alpha)**p\n",
    "\n",
    "def compute_c(mu, sigma, alpha, p):\n",
    "    def f_eta_unnormalized_temp(x):\n",
    "        return f_eta_unnormalized(x, mu, sigma, alpha, p)\n",
    "    c = integrate.quad(f_eta_unnormalized_temp, -np.inf, np.inf)[0]\n",
    "    return c\n",
    "\n",
    "# c = compute_c(mu, sigma, alpha, p)\n",
    "    \n",
    "def f_eta(x, mu, sigma, alpha, p, c):\n",
    "    return f_eta_unnormalized(x, mu, sigma, alpha, p)/c\n",
    "\n",
    "def g(x, mu, sigma, alpha, p, c):\n",
    "    return(f_pi(x, mu, sigma, alpha)/f_eta(x, mu, sigma, alpha, p, c))"
   ]
  },
  {
   "cell_type": "code",
   "execution_count": 16,
   "id": "fd29bade",
   "metadata": {},
   "outputs": [],
   "source": [
    "def p_kernel(y0, prop_sig_y, n, mu, sigma, alpha, p):\n",
    "        count = 0\n",
    "        Yn = y0\n",
    "        estimator = np.array([y0])\n",
    "        while count < n:\n",
    "            y = np.random.normal(Yn, prop_sig_y)\n",
    "            u = np.random.uniform(0,1)\n",
    "            a = min(f_eta_unnormalized(y, mu, sigma, alpha, p)/f_eta_unnormalized(Yn, mu, sigma, alpha, p), 1)\n",
    "            if u <= a:\n",
    "                estimator = np.append(estimator, y)\n",
    "                Yn = y\n",
    "                count += 1\n",
    "        return estimator"
   ]
  },
  {
   "cell_type": "code",
   "execution_count": 17,
   "id": "2d1a12a1",
   "metadata": {},
   "outputs": [],
   "source": [
    "def k_kernel_nsteps(z0, prop_sig_z, n, mu, sigma, alpha):\n",
    "        count = 0\n",
    "        Zn = z0\n",
    "        estimator = np.array([z0])\n",
    "        while count < n:\n",
    "            z = np.random.normal(Zn, prop_sig_z)\n",
    "            u = np.random.uniform(0,1)\n",
    "            a = min(f_pi(z, mu, sigma, alpha)/f_pi(Zn, mu, sigma, alpha), 1)\n",
    "            if u <= a:\n",
    "                estimator = np.append(estimator, z)\n",
    "                Zn = z\n",
    "                count += 1\n",
    "        return estimator"
   ]
  },
  {
   "cell_type": "code",
   "execution_count": 18,
   "id": "b2dbb9cd",
   "metadata": {},
   "outputs": [],
   "source": [
    "def k_kernel(Xn, prop_sig_x, mu, sigma, alpha):\n",
    "    Xnew = k_kernel_nsteps(Xn, prop_sig_x, 1, mu, sigma, alpha)[-1]\n",
    "    return(Xnew)"
   ]
  },
  {
   "cell_type": "code",
   "execution_count": 19,
   "id": "3261eae8",
   "metadata": {},
   "outputs": [],
   "source": [
    "def sum_g(sum_old, yn, mu, sigma, alpha, p, c):\n",
    "    return sum_old + sum(g(yn, mu, sigma, alpha, p, c))\n",
    "\n",
    "def prob_list(y, sum_old, prob_list_old, mu, sigma, alpha, p, c):\n",
    "        a = sum_old/sum_g(sum_old, y, mu, sigma, alpha, p, c)\n",
    "        prob_list = prob_list_old*a\n",
    "        prob_list = np.append(prob_list, g(y, mu, sigma, alpha, p, c)/sum_g(sum_old, y, mu, sigma, alpha, p, c))\n",
    "        return prob_list"
   ]
  },
  {
   "cell_type": "code",
   "execution_count": 20,
   "id": "e014dba8",
   "metadata": {},
   "outputs": [],
   "source": [
    "def simulate(mu, sigma, alpha, p, n, y0_list, prop_sig_x, prop_sig_y, x0_list, eps, N):\n",
    "    \n",
    "    c = compute_c(mu, sigma, alpha, p)\n",
    "    \n",
    "    X_matrix = np.empty((0,n),int)\n",
    "    Y_matrix = np.empty((0,n),int)\n",
    "     \n",
    "    for i in range(N):\n",
    "        sum_gs = g(y0_list[i], mu, sigma, alpha, p, c)\n",
    "        X_list = [x0_list[i]]\n",
    "        Y_list = p_kernel(y0_list[i], prop_sig_y, n, mu, sigma, alpha, p)\n",
    "        prob_list_Ys = np.array([1])\n",
    "        \n",
    "        for k in range(1, n):\n",
    "            prob_list_Ys = prob_list(Y_list[k], sum_gs, prob_list_Ys, mu, sigma, alpha, p, c)\n",
    "            sum_gs = sum_g(sum_gs, Y_list[k], mu, sigma, alpha, p, c)\n",
    "            j = bernoulli(eps).rvs(1)\n",
    "            \n",
    "            if j == 0:\n",
    "                X_list.append(k_kernel(x0_list[i], prop_sig_x, mu, sigma, alpha))\n",
    "            else:\n",
    "                X_list.append(np.random.choice(Y_list[:k+1], p = prob_list_Ys))\n",
    "                \n",
    "        X_matrix = np.append(X_matrix, [X_list], axis=0)\n",
    "        x0_list[i] = X_matrix[i][-1]\n",
    "        \n",
    "    X_list = X_matrix.flatten()\n",
    "        \n",
    "    return X_list"
   ]
  },
  {
   "cell_type": "code",
   "execution_count": 22,
   "id": "d0df0a84",
   "metadata": {},
   "outputs": [],
   "source": [
    "epsilon = 0.01\n",
    "y0 = [15, -5, 12, 1, -2]\n",
    "x0 = [10, 13, -4, -2, 3]\n",
    "n = 3000\n",
    "prop_sig_x = 2\n",
    "prop_sig_y = 2\n",
    "mu = np.array([0, 17.5])\n",
    "sigma = np.array([1, 4])\n",
    "alpha = np.array([0.3, 0.7])\n",
    "N = 2\n",
    "p = 0.75\n",
    "\n",
    "x_out = simulate(mu, sigma, alpha, p, n, y0, prop_sig_x, prop_sig_y, x0, epsilon, N)"
   ]
  },
  {
   "cell_type": "code",
   "execution_count": 23,
   "id": "60d6390e",
   "metadata": {},
   "outputs": [
    {
     "data": {
      "image/png": "[encoded data removed]",
      "text/plain": [
       "<Figure size 640x480 with 1 Axes>"
      ]
     },
     "metadata": {},
     "output_type": "display_data"
    }
   ],
   "source": [
    "f_pi_plot = lambda z: f_pi(z, mu, sigma, alpha)\n",
    "\n",
    "plt.hist(x_out, density = True, bins = 100)\n",
    "\n",
    "t = np.linspace(-20,25,1000)\n",
    "vals = f_pi_plot(t)\n",
    "\n",
    "plt.plot(t,vals, 'r')\n",
    "plt.show()"
   ]
  },
  {
   "cell_type": "code",
   "execution_count": null,
   "id": "eb8b5a9a",
   "metadata": {},
   "outputs": [],
   "source": []
  }
 ],
 "metadata": {
  "kernelspec": {
   "display_name": "base",
   "language": "python",
   "name": "python3"
  },
  "language_info": {
   "codemirror_mode": {
    "name": "ipython",
    "version": 3
   },
   "file_extension": ".py",
   "mimetype": "text/x-python",
   "name": "python",
   "nbconvert_exporter": "python",
   "pygments_lexer": "ipython3",
   "version": "3.8.13"
  },
  "vscode": {
   "interpreter": {
    "hash": "40d3a090f54c6569ab1632332b64b2c03c39dcf918b08424e98f38b5ae0af88f"
   }
  }
 },
 "nbformat": 4,
 "nbformat_minor": 5
}
