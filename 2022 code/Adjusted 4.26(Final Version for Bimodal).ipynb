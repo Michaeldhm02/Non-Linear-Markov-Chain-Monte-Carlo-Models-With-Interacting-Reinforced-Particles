{
 "cells": [
  {
   "cell_type": "code",
   "execution_count": 1,
   "metadata": {},
   "outputs": [],
   "source": [
    "import numpy as np\n",
    "import random as rm\n",
    "import pandas as pd\n",
    "from random import seed\n",
    "from random import random\n",
    "import matplotlib.pyplot as plt\n",
    "from pylab import *\n",
    "from scipy.optimize import curve_fit\n",
    "from scipy.stats import bernoulli, binom, norm\n",
    "from scipy import integrate"
   ]
  },
  {
   "cell_type": "markdown",
   "metadata": {},
   "source": [
    "### generalized toy example"
   ]
  },
  {
   "cell_type": "code",
   "execution_count": 2,
   "metadata": {},
   "outputs": [],
   "source": [
    "# generalized toy example\n",
    "def simulate(mu_list, sigma_list, n, alpha_list, p, y0, sigma, x0, epsilon):\n",
    "    def f_pi(x):\n",
    "        val = 0\n",
    "        for i in range(len(mu_list)):\n",
    "            val += alpha_list[i]*norm.pdf(x,mu_list[i], sigma_list[i]**0.5)\n",
    "        return val\n",
    "\n",
    "    def pdf_eta(x):\n",
    "        return f_pi(x)**p\n",
    "\n",
    "    c = integrate.quad(pdf_eta, -np.inf, np.inf)[0]\n",
    "    \n",
    "    def f_eta(x):\n",
    "        return pdf_eta(x)/c\n",
    "    \n",
    "    def g(x):\n",
    "        return(f_pi(x)/f_eta(x))\n",
    "    \n",
    "    def p_kernel(y0, sigma, n):\n",
    "        count = 0\n",
    "        Yn = y0\n",
    "        estimator = [y0]\n",
    "        while count<n:\n",
    "            y = np.random.normal(Yn, sigma)\n",
    "            u = np.random.uniform(0,1)\n",
    "            alpha = min((pdf_eta(y)/pdf_eta(Yn)),1)\n",
    "            if u <= alpha:\n",
    "                estimator.append(y)\n",
    "                Yn = y\n",
    "                count += 1\n",
    "        return estimator\n",
    "    \n",
    "    def k_kernel(x0, sigma):\n",
    "        count = 0\n",
    "        Xn = x0\n",
    "        estimator = [x0]\n",
    "        while count<1:\n",
    "            y = np.random.normal(Xn,sigma)\n",
    "            u = np.random.uniform(0,1)\n",
    "            alpha = min((pdf_eta(y)/pdf_eta(Xn)),1)\n",
    "            if u <= alpha:\n",
    "                estimator.append(y)\n",
    "                Xn = y\n",
    "                count += 1\n",
    "        return estimator[-1]\n",
    "    \n",
    "    def sum_g(sum_old, yn):\n",
    "        sum_new = sum_old + g(yn)\n",
    "        return sum_new\n",
    "\n",
    "    def prob_list(y, sum_new):\n",
    "        prob_list = []\n",
    "        for i in y:\n",
    "            prob_list.append(g(i)/sum_new)\n",
    "        return prob_list\n",
    "    \n",
    "    def bernoulli_list(epsilon, n):\n",
    "        b_list = bernoulli(epsilon).rvs(n)\n",
    "        return b_list\n",
    "    \n",
    "    def x_sample(x0, epsilon, y0, n, sigma):\n",
    "        X_list = [x0]\n",
    "        Y_list = [y0]\n",
    "        sum_gs = g(y0)\n",
    "        Y_list = p_kernel(y0,sigma,n)\n",
    "        for k in range(1, n):\n",
    "            sum_gs = sum_g(sum_gs, Y_list[k])\n",
    "            prob_list_Ys = prob_list(Y_list[:k+1], sum_gs)\n",
    "            bernoullis = bernoulli_list(epsilon, 1)\n",
    "            i = bernoullis\n",
    "            if i == 0:\n",
    "                X_list.append(k_kernel(x0, sigma))\n",
    "            if i == 1:\n",
    "                X_list.append(np.random.choice(Y_list[:k+1], p = prob_list_Ys))\n",
    "            x0 = X_list[-1]\n",
    "        return X_list\n",
    "    \n",
    "    def E_x(X_list):\n",
    "        sum = 0\n",
    "        for i in X_list:\n",
    "            sum += i\n",
    "        mean = sum/len(X_list)\n",
    "        return mean\n",
    "    \n",
    "    X_list = x_sample(x0, epsilon, y0, n, sigma)\n",
    "    mean = E_x(X_list)\n",
    "    \n",
    "    return [X_list, mean]"
   ]
  },
  {
   "cell_type": "code",
   "execution_count": 3,
   "metadata": {},
   "outputs": [],
   "source": [
    "mu_list = [0,17.5]\n",
    "sigma_list = [.5,1]\n",
    "alpha_list = [0.4,0.6]\n",
    "p = 0.75\n",
    "n = 100\n",
    "y0 = 15\n",
    "x0 = 10\n",
    "sigma = 10\n",
    "epsilon = 0.05\n",
    "\n",
    "X_list = simulate(mu_list, sigma_list, n, alpha_list, p, y0, sigma, x0, epsilon)[0]\n",
    "mean = simulate(mu_list, sigma_list, n, alpha_list, p, y0, sigma, x0, epsilon)[1]"
   ]
  },
  {
   "cell_type": "code",
   "execution_count": 4,
   "metadata": {},
   "outputs": [
    {
     "name": "stdout",
     "output_type": "stream",
     "text": [
      "10.567192104516467\n"
     ]
    }
   ],
   "source": [
    "print(mean)"
   ]
  },
  {
   "cell_type": "code",
   "execution_count": 5,
   "metadata": {},
   "outputs": [
    {
     "data": {
      "text/plain": [
       "[<matplotlib.lines.Line2D at 0x7f8dcd4b04f0>]"
      ]
     },
     "execution_count": 5,
     "metadata": {},
     "output_type": "execute_result"
    },
    {
     "data": {
      "image/png": "[encoded data removed]",
      "text/plain": [
       "<Figure size 432x288 with 1 Axes>"
      ]
     },
     "metadata": {
      "needs_background": "light"
     },
     "output_type": "display_data"
    }
   ],
   "source": [
    "# plot\n",
    "pdf_pi = lambda x: 0.4*(1/np.sqrt(2*math.pi*0.5))*np.exp((-1/2)*((x-0)**2/0.5)) + 0.6*(1/np.sqrt(2*math.pi*1))*np.exp((-1/2)*((x-17.5)**2/1))\n",
    "\n",
    "plt.hist(X_list, density = True, bins = 100)\n",
    "t = np.linspace(-5,25,1000)\n",
    "vals = pdf_pi(t)\n",
    "plt.plot(t,vals, 'r')"
   ]
  },
  {
   "cell_type": "markdown",
   "metadata": {},
   "source": [
    "### many particles, $x_i$ with $y_i$"
   ]
  },
  {
   "cell_type": "code",
   "execution_count": 2,
   "metadata": {},
   "outputs": [],
   "source": [
    "# x_i move according to y_i\n",
    "def simulate_list1(mu_list, sigma_list, n, alpha_list, p, y0_list, sigma, x0_list, epsilon, N):\n",
    "    def f_pi(x):\n",
    "        val = 0\n",
    "        for i in range(len(mu_list)):\n",
    "            val += alpha_list[i]*norm.pdf(x,mu_list[i], sigma_list[i]**0.5)\n",
    "        return val\n",
    "\n",
    "    def pdf_eta(x):\n",
    "        return f_pi(x)**p\n",
    "\n",
    "    c = integrate.quad(pdf_eta, -np.inf, np.inf)[0]\n",
    "    \n",
    "    def f_eta(x):\n",
    "        return pdf_eta(x)/c\n",
    "    \n",
    "    def g(x):\n",
    "        return(f_pi(x)/f_eta(x))\n",
    "    \n",
    "    '''\n",
    "    def p_kernel_adjust(y0_list, sigma, n):\n",
    "        Yn_list = y0_list\n",
    "        estimator_matrix = np.empty((0,n), int)\n",
    "        for i in range(len(Yn_list)):\n",
    "            count = 0\n",
    "            estimator_list = [y0_list[i]]\n",
    "            Yn_list = y0_list\n",
    "            while count<n:\n",
    "                y = np.random.normal(Yn_list[i], sigma)\n",
    "                u = np.random.uniform(0,1)\n",
    "                alpha = (min((pdf_eta(y)/pdf_eta(Yn_list[i])),1))\n",
    "                if u <= alpha:\n",
    "                    estimator_list.append(y)\n",
    "                    Yn_list[i] = y\n",
    "                    count += 1\n",
    "            estimator_matrix = np.append(estimator_matrix, [estimator_list[1:]], axis=0)\n",
    "        return estimator_matrix\n",
    "\n",
    "    def k_kernel_adjust(x0_list,sigma):\n",
    "        Xn_list = x0_list\n",
    "        estimator_matrix = np.empty((0,2), int)\n",
    "        for i in range(len(Xn_list)):\n",
    "            count = 0\n",
    "            estimator_list = [x0_list[i]]\n",
    "            Xn_list = x0_list\n",
    "            while count<1:\n",
    "                y = np.random.normal(Xn_list[i],sigma)\n",
    "                u = np.random.uniform(0,1)\n",
    "                alpha = min((pdf_eta(y)/pdf_eta(Xn_list[i])),1)\n",
    "                if u <= alpha:\n",
    "                    estimator_list.append(y)\n",
    "                    Xn_list[i] = y\n",
    "                    count +=1\n",
    "            estimator_matrix = np.append(estimator_matrix, [estimator_list], axis=0)\n",
    "        return estimator_matrix\n",
    "    '''\n",
    "    \n",
    "    def p_kernel(y0, sigma, n):\n",
    "        count = 0\n",
    "        Yn = y0\n",
    "        estimator = [y0]\n",
    "        while count<n:\n",
    "            y = np.random.normal(Yn, sigma)\n",
    "            u = np.random.uniform(0,1)\n",
    "            alpha = min((pdf_eta(y)/pdf_eta(Yn)),1)\n",
    "            if u <= alpha:\n",
    "                estimator.append(y)\n",
    "                Yn = y\n",
    "                count += 1\n",
    "        return estimator\n",
    "    \n",
    "    def k_kernel(x0, sigma):\n",
    "        count = 0\n",
    "        Xn = x0\n",
    "        estimator = [x0]\n",
    "        while count<1:\n",
    "            y = np.random.normal(Xn,sigma)\n",
    "            u = np.random.uniform(0,1)\n",
    "            alpha = min((pdf_eta(y)/pdf_eta(Xn)),1)\n",
    "            if u <= alpha:\n",
    "                estimator.append(y)\n",
    "                Xn = y\n",
    "                count += 1\n",
    "        return estimator[-1]\n",
    "    \n",
    "    def sum_g(sum_old, yn):\n",
    "        sum_new = sum_old + g(yn)\n",
    "        return sum_new\n",
    "\n",
    "    def prob_list(y, sum_new):\n",
    "        prob_list = []\n",
    "        for i in y:\n",
    "            prob_list.append(g(i)/sum_new)\n",
    "        return prob_list\n",
    "    \n",
    "    def bernoulli_list(epsilon, n):\n",
    "        b_list = bernoulli(epsilon).rvs(n)\n",
    "        return b_list\n",
    "    \n",
    "    def x_sample(x0_list, epsilon, y0_list, n, sigma, N):\n",
    "        X_matrix = np.empty((0,n),int)\n",
    "        Y_matrix = np.empty((0,n),int)\n",
    "        for i in range(N):\n",
    "            sum_gs = g(y0_list[i])\n",
    "            X_list = [x0_list[i]]\n",
    "            Y_list = p_kernel(y0_list[i], sigma, n)\n",
    "            for k in range(1, n):\n",
    "                sum_gs = sum_g(sum_gs, Y_list[k])\n",
    "                prob_list_Ys = prob_list(Y_list[:k+1], sum_gs)\n",
    "                j = bernoulli_list(epsilon, 1)\n",
    "                if j == 0:\n",
    "                    X_list.append(k_kernel(x0_list[i], sigma))\n",
    "                if j == 1:\n",
    "                    X_list.append(np.random.choice(Y_list[:k+1], p = prob_list_Ys))\n",
    "            X_matrix = np.append(X_matrix, [X_list], axis=0)\n",
    "            x0_list[i] = X_matrix[i][-1]\n",
    "        return X_matrix\n",
    "    \n",
    "    def E_x(X_matrix):\n",
    "        sum_matrix = X_matrix.sum()\n",
    "        len_matrix = X_matrix.size\n",
    "        average_matrix = sum_matrix/len_matrix\n",
    "        return average_matrix\n",
    "    \n",
    "    X_matrix = x_sample(x0_list, epsilon, y0_list, n, sigma, N)\n",
    "    mean = E_x(X_matrix)\n",
    "    \n",
    "    return [mean, X_matrix.flatten()]"
   ]
  },
  {
   "cell_type": "code",
   "execution_count": 3,
   "metadata": {},
   "outputs": [],
   "source": [
    "mu_list = [0,17.5]\n",
    "sigma_list = [.5,1]\n",
    "alpha_list = [0.4,0.6]\n",
    "p = 0.75\n",
    "n = 100\n",
    "y0_list = [15, -5, 12, 1, -2]\n",
    "x0_list = [10, 13, -4, -2, 3]\n",
    "sigma = 10\n",
    "epsilon = 0.05\n",
    "N = 5\n",
    "\n",
    "X_list = simulate_list1(mu_list, sigma_list, n, alpha_list, p, y0_list, sigma, x0_list, epsilon, N)[1]"
   ]
  },
  {
   "cell_type": "code",
   "execution_count": 4,
   "metadata": {},
   "outputs": [
    {
     "data": {
      "text/plain": [
       "[<matplotlib.lines.Line2D at 0x7f9ab8a96340>]"
      ]
     },
     "execution_count": 4,
     "metadata": {},
     "output_type": "execute_result"
    },
    {
     "data": {
      "image/png": "[encoded data removed]",
      "text/plain": [
       "<Figure size 432x288 with 1 Axes>"
      ]
     },
     "metadata": {
      "needs_background": "light"
     },
     "output_type": "display_data"
    }
   ],
   "source": [
    "pdf_eta = lambda x: 0.4*(1/np.sqrt(2*math.pi*0.5))*np.exp((-1/2)*((x-0)**2/0.5)) + 0.6*(1/np.sqrt(2*math.pi*1))*np.exp((-1/2)*((x-17.5)**2/1))\n",
    "\n",
    "plt.hist(X_list, density = True, bins = 100)\n",
    "t = np.linspace(-5,25,1000)\n",
    "vals = pdf_eta(t)\n",
    "plt.plot(t,vals, 'r')"
   ]
  },
  {
   "cell_type": "markdown",
   "metadata": {},
   "source": [
    "### all $ys$ past positions"
   ]
  },
  {
   "cell_type": "code",
   "execution_count": 9,
   "metadata": {},
   "outputs": [],
   "source": [
    "# x_i move according to all ys\n",
    "def simulate_list2(mu_list, sigma_list, n, alpha_list, p, y0_list, sigma, x0_list, epsilon, N):\n",
    "    def f_pi(x):\n",
    "        val = 0\n",
    "        for i in range(len(mu_list)):\n",
    "            val += alpha_list[i]*norm.pdf(x,mu_list[i], sigma_list[i]**0.5)\n",
    "        return val\n",
    "\n",
    "    def pdf_eta(x):\n",
    "        return f_pi(x)**p\n",
    "\n",
    "    c = integrate.quad(pdf_eta, -np.inf, np.inf)[0]\n",
    "    \n",
    "    def f_eta(x):\n",
    "        return pdf_eta(x)/c\n",
    "    \n",
    "    def g(x):\n",
    "        return(f_pi(x)/f_eta(x))\n",
    "    \n",
    "    '''\n",
    "    def p_kernel_adjust(y0_list, sigma, n):\n",
    "        Yn_list = y0_list\n",
    "        estimator_matrix = np.empty((0,n), int)\n",
    "        for i in range(len(Yn_list)):\n",
    "            count = 0\n",
    "            estimator_list = [y0_list[i]]\n",
    "            Yn_list = y0_list\n",
    "            while count<n:\n",
    "                y = np.random.normal(Yn_list[i], sigma)\n",
    "                u = np.random.uniform(0,1)\n",
    "                alpha = (min((pdf_eta(y)/pdf_eta(Yn_list[i])),1))\n",
    "                if u <= alpha:\n",
    "                    estimator_list.append(y)\n",
    "                    Yn_list[i] = y\n",
    "                    count += 1\n",
    "            estimator_matrix = np.append(estimator_matrix, [estimator_list[1:]], axis=0)\n",
    "        return estimator_matrix\n",
    "\n",
    "    def k_kernel_adjust(x0_list,sigma):\n",
    "        Xn_list = x0_list\n",
    "        estimator_matrix = np.empty((0,2), int)\n",
    "        for i in range(len(Xn_list)):\n",
    "            count = 0\n",
    "            estimator_list = [x0_list[i]]\n",
    "            Xn_list = x0_list\n",
    "            while count<1:\n",
    "                y = np.random.normal(Xn_list[i],sigma)\n",
    "                u = np.random.uniform(0,1)\n",
    "                alpha = min((pdf_eta(y)/pdf_eta(Xn_list[i])),1)\n",
    "                if u <= alpha:\n",
    "                    estimator_list.append(y)\n",
    "                    Xn_list[i] = y\n",
    "                    count +=1\n",
    "            estimator_matrix = np.append(estimator_matrix, [estimator_list], axis=0)\n",
    "        return estimator_matrix\n",
    "    '''\n",
    "    \n",
    "    def p_kernel(y0, sigma, n):\n",
    "        count = 0\n",
    "        Yn = y0\n",
    "        estimator = [y0]\n",
    "        while count<n:\n",
    "            y = np.random.normal(Yn, sigma)\n",
    "            u = np.random.uniform(0,1)\n",
    "            alpha = min((pdf_eta(y)/pdf_eta(Yn)),1)\n",
    "            if u <= alpha:\n",
    "                estimator.append(y)\n",
    "                Yn = y\n",
    "                count += 1\n",
    "        return estimator\n",
    "    \n",
    "    def k_kernel(x0, sigma):\n",
    "        count = 0\n",
    "        Xn = x0\n",
    "        estimator = [x0]\n",
    "        while count<1:\n",
    "            y = np.random.normal(Xn,sigma)\n",
    "            u = np.random.uniform(0,1)\n",
    "            alpha = min((pdf_eta(y)/pdf_eta(Xn)),1)\n",
    "            if u <= alpha:\n",
    "                estimator.append(y)\n",
    "                Xn = y\n",
    "                count += 1\n",
    "        return estimator[-1]\n",
    "    \n",
    "    def sum_g(sum_old, yn):\n",
    "        sum_new = sum_old + g(yn)\n",
    "        return sum_new\n",
    "    \n",
    "    def prob_matrix(Y_matrix, sum_new):\n",
    "        prob_matrix = np.zeros((len(Y_matrix),len(Y_matrix[0])))\n",
    "        for i in range(len(Y_matrix[0])):\n",
    "            for j in range(len(Y_matrix)):\n",
    "                prob_matrix[j][i] = g(Y_matrix[j][i])/sum_new\n",
    "        return prob_matrix\n",
    "    \n",
    "    def bernoulli_list(epsilon, n):\n",
    "        b_list = bernoulli(epsilon).rvs(n)\n",
    "        return b_list\n",
    "    \n",
    "    def x_sample(x0_list, epsilon, y0_list, n, sigma, N):\n",
    "        X_matrix = np.zeros((N,n))\n",
    "        Y_matrix = np.zeros((N,n))\n",
    "        sum_Gs = 0\n",
    "        for i in range(n):\n",
    "            sum_gs = 0\n",
    "            for j in range(N):\n",
    "                if i == 0:\n",
    "                    Y_matrix[j][i] = y0_list[j]\n",
    "                    sum_gs = sum_g(sum_gs, y0_list[j])\n",
    "                else:\n",
    "                    Y_matrix[j][i] = p_kernel(y0_list[j], sigma, 1)[-1]\n",
    "                    y0_list[j] = Y_matrix[j][i]\n",
    "                    sum_gs = sum_g(sum_gs, Y_matrix[j][i])\n",
    "            sum_Gs += sum_gs\n",
    "            Prob_matrix = prob_matrix(Y_matrix[:,0:i+1], sum_Gs)\n",
    "            Y_matrix_flatten = Y_matrix[:,0:i+1].flatten()\n",
    "            Prob_matrix_flatten = Prob_matrix.flatten()\n",
    "            for j in range(N):\n",
    "                b = bernoulli_list(epsilon, 1)\n",
    "                if b == 0:\n",
    "                    X_matrix[j][i] = k_kernel(x0_list[j], sigma)\n",
    "                if b == 1:\n",
    "                    X_matrix[j][i] = np.random.choice(Y_matrix_flatten, p = Prob_matrix_flatten)\n",
    "                x0_list[j] = X_matrix[j][i]\n",
    "        return X_matrix\n",
    "    \n",
    "    def E_x(X_matrix):\n",
    "        sum_matrix = X_matrix.sum()\n",
    "        len_matrix = X_matrix.size\n",
    "        average_matrix = sum_matrix/len_matrix\n",
    "        return average_matrix\n",
    "    \n",
    "    X_matrix = x_sample(x0_list, epsilon, y0_list, n, sigma, N)\n",
    "    mean = E_x(X_matrix)\n",
    "    \n",
    "    return mean, X_matrix.flatten()"
   ]
  },
  {
   "cell_type": "code",
   "execution_count": 10,
   "metadata": {},
   "outputs": [
    {
     "name": "stdout",
     "output_type": "stream",
     "text": [
      "10.492515684400193\n"
     ]
    }
   ],
   "source": [
    "mu_list = [0,17.5]\n",
    "sigma_list = [.5,1]\n",
    "alpha_list = [0.4,0.6]\n",
    "p = 0.75\n",
    "n = 100\n",
    "y0_list = [15, 5, 2, 11, 2]\n",
    "x0_list = [10,3,14,-2,13]\n",
    "sigma = 10\n",
    "epsilon = 0.05\n",
    "N = 5\n",
    "\n",
    "X_list = simulate_list2(mu_list, sigma_list, n, alpha_list, p, y0_list, sigma, x0_list, epsilon, N)[1]\n",
    "mean = simulate_list2(mu_list, sigma_list, n, alpha_list, p, y0_list, sigma, x0_list, epsilon, N)[0]\n",
    "print(mean)"
   ]
  },
  {
   "cell_type": "code",
   "execution_count": 11,
   "metadata": {},
   "outputs": [
    {
     "data": {
      "text/plain": [
       "[<matplotlib.lines.Line2D at 0x7f8dcda3bd00>]"
      ]
     },
     "execution_count": 11,
     "metadata": {},
     "output_type": "execute_result"
    },
    {
     "data": {
      "image/png": "[encoded data removed]",
      "text/plain": [
       "<Figure size 432x288 with 1 Axes>"
      ]
     },
     "metadata": {
      "needs_background": "light"
     },
     "output_type": "display_data"
    }
   ],
   "source": [
    "pdf_pi = lambda x: 0.4*(1/np.sqrt(2*math.pi*0.5))*np.exp((-1/2)*((x-0)**2/0.5)) + 0.6*(1/np.sqrt(2*math.pi*1))*np.exp((-1/2)*((x-17.5)**2/1))\n",
    "\n",
    "plt.hist(X_list, density = True, bins = 100)\n",
    "t = np.linspace(-5,25,1000)\n",
    "vals = pdf_pi(t)\n",
    "plt.plot(t,vals, 'r')"
   ]
  }
 ],
 "metadata": {
  "kernelspec": {
   "display_name": "Python 3.8.8 ('base')",
   "language": "python",
   "name": "python3"
  },
  "language_info": {
   "codemirror_mode": {
    "name": "ipython",
    "version": 3
   },
   "file_extension": ".py",
   "mimetype": "text/x-python",
   "name": "python",
   "nbconvert_exporter": "python",
   "pygments_lexer": "ipython3",
   "version": "3.8.8"
  },
  "orig_nbformat": 4,
  "vscode": {
   "interpreter": {
    "hash": "40d3a090f54c6569ab1632332b64b2c03c39dcf918b08424e98f38b5ae0af88f"
   }
  }
 },
 "nbformat": 4,
 "nbformat_minor": 2
}
